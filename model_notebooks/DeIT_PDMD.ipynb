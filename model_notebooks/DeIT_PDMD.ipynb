{
 "cells": [
  {
   "cell_type": "code",
   "execution_count": 3,
   "id": "57fc12f8-93bc-4a75-a49d-a6209ffaaac7",
   "metadata": {},
   "outputs": [],
   "source": [
    "import torch\n",
    "import torchvision\n",
    "import torchvision.transforms as transforms\n",
    "import torch.nn as nn\n",
    "import torch.optim as optim\n",
    "from torch.utils.data import DataLoader\n",
    "from torchvision.datasets import ImageFolder\n",
    "from torchvision import models\n",
    "from sklearn.metrics import accuracy_score, precision_score, recall_score, f1_score\n",
    "import matplotlib.pyplot as plt\n",
    "from tqdm import tqdm"
   ]
  },
  {
   "cell_type": "code",
   "execution_count": 4,
   "id": "e6d21642-3486-46c2-84ae-8b75efdf902e",
   "metadata": {},
   "outputs": [],
   "source": [
    "# Define transforms for the dataset\n",
    "transform = transforms.Compose([\n",
    "    transforms.Resize((224, 224)),\n",
    "    transforms.ToTensor(),\n",
    "])"
   ]
  },
  {
   "cell_type": "code",
   "execution_count": 5,
   "id": "d8bb57c6-cd0f-4de5-bbcd-9587d4cbe971",
   "metadata": {},
   "outputs": [],
   "source": [
    "# Load dataset\n",
    "train_dataset = ImageFolder(root=r\"D:\\PlantDIsease\\PDMD - RFS70\\train\", transform=transform)\n",
    "val_dataset = ImageFolder(root=r\"D:\\PlantDIsease\\PDMD - RFS70\\val\", transform=transform)\n",
    "test_dataset = ImageFolder(root=r\"D:\\PlantDIsease\\PDMD - RFS70\\test\", transform=transform)"
   ]
  },
  {
   "cell_type": "code",
   "execution_count": 6,
   "id": "622fb560-ba4e-45cb-9231-6f1150639c2c",
   "metadata": {},
   "outputs": [],
   "source": [
    "# Define dataloaders\n",
    "train_loader = DataLoader(train_dataset, batch_size=32, shuffle=True)\n",
    "val_loader = DataLoader(val_dataset, batch_size=32, shuffle=False)\n",
    "test_loader = DataLoader(test_dataset, batch_size=32, shuffle=False)"
   ]
  },
  {
   "cell_type": "code",
   "execution_count": 7,
   "id": "f3024fac-c721-410a-a672-222ad360c8c0",
   "metadata": {},
   "outputs": [
    {
     "name": "stderr",
     "output_type": "stream",
     "text": [
      "Using cache found in C:\\Users\\Welcome/.cache\\torch\\hub\\facebookresearch_deit_main\n",
      "C:\\Users\\Welcome/.cache\\torch\\hub\\facebookresearch_deit_main\\models.py:62: UserWarning: Overwriting deit_tiny_patch16_224 in registry with models.deit_tiny_patch16_224. This is because the name being registered conflicts with an existing name. Please check if this is not expected.\n",
      "  @register_model\n",
      "C:\\Users\\Welcome/.cache\\torch\\hub\\facebookresearch_deit_main\\models.py:77: UserWarning: Overwriting deit_small_patch16_224 in registry with models.deit_small_patch16_224. This is because the name being registered conflicts with an existing name. Please check if this is not expected.\n",
      "  @register_model\n",
      "C:\\Users\\Welcome/.cache\\torch\\hub\\facebookresearch_deit_main\\models.py:92: UserWarning: Overwriting deit_base_patch16_224 in registry with models.deit_base_patch16_224. This is because the name being registered conflicts with an existing name. Please check if this is not expected.\n",
      "  @register_model\n",
      "C:\\Users\\Welcome/.cache\\torch\\hub\\facebookresearch_deit_main\\models.py:107: UserWarning: Overwriting deit_tiny_distilled_patch16_224 in registry with models.deit_tiny_distilled_patch16_224. This is because the name being registered conflicts with an existing name. Please check if this is not expected.\n",
      "  @register_model\n",
      "C:\\Users\\Welcome/.cache\\torch\\hub\\facebookresearch_deit_main\\models.py:122: UserWarning: Overwriting deit_small_distilled_patch16_224 in registry with models.deit_small_distilled_patch16_224. This is because the name being registered conflicts with an existing name. Please check if this is not expected.\n",
      "  @register_model\n",
      "C:\\Users\\Welcome/.cache\\torch\\hub\\facebookresearch_deit_main\\models.py:137: UserWarning: Overwriting deit_base_distilled_patch16_224 in registry with models.deit_base_distilled_patch16_224. This is because the name being registered conflicts with an existing name. Please check if this is not expected.\n",
      "  @register_model\n",
      "C:\\Users\\Welcome/.cache\\torch\\hub\\facebookresearch_deit_main\\models.py:152: UserWarning: Overwriting deit_base_patch16_384 in registry with models.deit_base_patch16_384. This is because the name being registered conflicts with an existing name. Please check if this is not expected.\n",
      "  @register_model\n",
      "C:\\Users\\Welcome/.cache\\torch\\hub\\facebookresearch_deit_main\\models.py:167: UserWarning: Overwriting deit_base_distilled_patch16_384 in registry with models.deit_base_distilled_patch16_384. This is because the name being registered conflicts with an existing name. Please check if this is not expected.\n",
      "  @register_model\n"
     ]
    }
   ],
   "source": [
    "# from torchvision.models import efficientnet_b0, EfficientNet_B0_Weights\n",
    "# from torchvision.models._api import WeightsEnum\n",
    "# from torch.hub import load_state_dict_from_url\n",
    "\n",
    "# def get_state_dict(self, *args, **kwargs):\n",
    "#     kwargs.pop(\"check_hash\")\n",
    "#     return load_state_dict_from_url(self.url, *args, **kwargs)\n",
    "# WeightsEnum.get_state_dict = get_state_dict\n",
    "\n",
    "# efficientnet_b0(weights=EfficientNet_B0_Weights.IMAGENET1K_V1)\n",
    "# efficientnet_b0(weights=\"DEFAULT\")\n",
    "\n",
    "# Define EfficientNet model\n",
    "model = torch.hub.load('facebookresearch/deit:main', 'deit_base_patch16_224', pretrained=True)"
   ]
  },
  {
   "cell_type": "code",
   "execution_count": 6,
   "id": "030d2fdf-dfb9-4701-9303-908c7749da97",
   "metadata": {},
   "outputs": [
    {
     "name": "stdout",
     "output_type": "stream",
     "text": [
      "VisionTransformer(\n",
      "  (patch_embed): PatchEmbed(\n",
      "    (proj): Conv2d(3, 768, kernel_size=(16, 16), stride=(16, 16))\n",
      "    (norm): Identity()\n",
      "  )\n",
      "  (pos_drop): Dropout(p=0.0, inplace=False)\n",
      "  (patch_drop): Identity()\n",
      "  (norm_pre): Identity()\n",
      "  (blocks): Sequential(\n",
      "    (0): Block(\n",
      "      (norm1): LayerNorm((768,), eps=1e-06, elementwise_affine=True)\n",
      "      (attn): Attention(\n",
      "        (qkv): Linear(in_features=768, out_features=2304, bias=True)\n",
      "        (q_norm): Identity()\n",
      "        (k_norm): Identity()\n",
      "        (attn_drop): Dropout(p=0.0, inplace=False)\n",
      "        (proj): Linear(in_features=768, out_features=768, bias=True)\n",
      "        (proj_drop): Dropout(p=0.0, inplace=False)\n",
      "      )\n",
      "      (ls1): Identity()\n",
      "      (drop_path1): Identity()\n",
      "      (norm2): LayerNorm((768,), eps=1e-06, elementwise_affine=True)\n",
      "      (mlp): Mlp(\n",
      "        (fc1): Linear(in_features=768, out_features=3072, bias=True)\n",
      "        (act): GELU(approximate='none')\n",
      "        (drop1): Dropout(p=0.0, inplace=False)\n",
      "        (norm): Identity()\n",
      "        (fc2): Linear(in_features=3072, out_features=768, bias=True)\n",
      "        (drop2): Dropout(p=0.0, inplace=False)\n",
      "      )\n",
      "      (ls2): Identity()\n",
      "      (drop_path2): Identity()\n",
      "    )\n",
      "    (1): Block(\n",
      "      (norm1): LayerNorm((768,), eps=1e-06, elementwise_affine=True)\n",
      "      (attn): Attention(\n",
      "        (qkv): Linear(in_features=768, out_features=2304, bias=True)\n",
      "        (q_norm): Identity()\n",
      "        (k_norm): Identity()\n",
      "        (attn_drop): Dropout(p=0.0, inplace=False)\n",
      "        (proj): Linear(in_features=768, out_features=768, bias=True)\n",
      "        (proj_drop): Dropout(p=0.0, inplace=False)\n",
      "      )\n",
      "      (ls1): Identity()\n",
      "      (drop_path1): Identity()\n",
      "      (norm2): LayerNorm((768,), eps=1e-06, elementwise_affine=True)\n",
      "      (mlp): Mlp(\n",
      "        (fc1): Linear(in_features=768, out_features=3072, bias=True)\n",
      "        (act): GELU(approximate='none')\n",
      "        (drop1): Dropout(p=0.0, inplace=False)\n",
      "        (norm): Identity()\n",
      "        (fc2): Linear(in_features=3072, out_features=768, bias=True)\n",
      "        (drop2): Dropout(p=0.0, inplace=False)\n",
      "      )\n",
      "      (ls2): Identity()\n",
      "      (drop_path2): Identity()\n",
      "    )\n",
      "    (2): Block(\n",
      "      (norm1): LayerNorm((768,), eps=1e-06, elementwise_affine=True)\n",
      "      (attn): Attention(\n",
      "        (qkv): Linear(in_features=768, out_features=2304, bias=True)\n",
      "        (q_norm): Identity()\n",
      "        (k_norm): Identity()\n",
      "        (attn_drop): Dropout(p=0.0, inplace=False)\n",
      "        (proj): Linear(in_features=768, out_features=768, bias=True)\n",
      "        (proj_drop): Dropout(p=0.0, inplace=False)\n",
      "      )\n",
      "      (ls1): Identity()\n",
      "      (drop_path1): Identity()\n",
      "      (norm2): LayerNorm((768,), eps=1e-06, elementwise_affine=True)\n",
      "      (mlp): Mlp(\n",
      "        (fc1): Linear(in_features=768, out_features=3072, bias=True)\n",
      "        (act): GELU(approximate='none')\n",
      "        (drop1): Dropout(p=0.0, inplace=False)\n",
      "        (norm): Identity()\n",
      "        (fc2): Linear(in_features=3072, out_features=768, bias=True)\n",
      "        (drop2): Dropout(p=0.0, inplace=False)\n",
      "      )\n",
      "      (ls2): Identity()\n",
      "      (drop_path2): Identity()\n",
      "    )\n",
      "    (3): Block(\n",
      "      (norm1): LayerNorm((768,), eps=1e-06, elementwise_affine=True)\n",
      "      (attn): Attention(\n",
      "        (qkv): Linear(in_features=768, out_features=2304, bias=True)\n",
      "        (q_norm): Identity()\n",
      "        (k_norm): Identity()\n",
      "        (attn_drop): Dropout(p=0.0, inplace=False)\n",
      "        (proj): Linear(in_features=768, out_features=768, bias=True)\n",
      "        (proj_drop): Dropout(p=0.0, inplace=False)\n",
      "      )\n",
      "      (ls1): Identity()\n",
      "      (drop_path1): Identity()\n",
      "      (norm2): LayerNorm((768,), eps=1e-06, elementwise_affine=True)\n",
      "      (mlp): Mlp(\n",
      "        (fc1): Linear(in_features=768, out_features=3072, bias=True)\n",
      "        (act): GELU(approximate='none')\n",
      "        (drop1): Dropout(p=0.0, inplace=False)\n",
      "        (norm): Identity()\n",
      "        (fc2): Linear(in_features=3072, out_features=768, bias=True)\n",
      "        (drop2): Dropout(p=0.0, inplace=False)\n",
      "      )\n",
      "      (ls2): Identity()\n",
      "      (drop_path2): Identity()\n",
      "    )\n",
      "    (4): Block(\n",
      "      (norm1): LayerNorm((768,), eps=1e-06, elementwise_affine=True)\n",
      "      (attn): Attention(\n",
      "        (qkv): Linear(in_features=768, out_features=2304, bias=True)\n",
      "        (q_norm): Identity()\n",
      "        (k_norm): Identity()\n",
      "        (attn_drop): Dropout(p=0.0, inplace=False)\n",
      "        (proj): Linear(in_features=768, out_features=768, bias=True)\n",
      "        (proj_drop): Dropout(p=0.0, inplace=False)\n",
      "      )\n",
      "      (ls1): Identity()\n",
      "      (drop_path1): Identity()\n",
      "      (norm2): LayerNorm((768,), eps=1e-06, elementwise_affine=True)\n",
      "      (mlp): Mlp(\n",
      "        (fc1): Linear(in_features=768, out_features=3072, bias=True)\n",
      "        (act): GELU(approximate='none')\n",
      "        (drop1): Dropout(p=0.0, inplace=False)\n",
      "        (norm): Identity()\n",
      "        (fc2): Linear(in_features=3072, out_features=768, bias=True)\n",
      "        (drop2): Dropout(p=0.0, inplace=False)\n",
      "      )\n",
      "      (ls2): Identity()\n",
      "      (drop_path2): Identity()\n",
      "    )\n",
      "    (5): Block(\n",
      "      (norm1): LayerNorm((768,), eps=1e-06, elementwise_affine=True)\n",
      "      (attn): Attention(\n",
      "        (qkv): Linear(in_features=768, out_features=2304, bias=True)\n",
      "        (q_norm): Identity()\n",
      "        (k_norm): Identity()\n",
      "        (attn_drop): Dropout(p=0.0, inplace=False)\n",
      "        (proj): Linear(in_features=768, out_features=768, bias=True)\n",
      "        (proj_drop): Dropout(p=0.0, inplace=False)\n",
      "      )\n",
      "      (ls1): Identity()\n",
      "      (drop_path1): Identity()\n",
      "      (norm2): LayerNorm((768,), eps=1e-06, elementwise_affine=True)\n",
      "      (mlp): Mlp(\n",
      "        (fc1): Linear(in_features=768, out_features=3072, bias=True)\n",
      "        (act): GELU(approximate='none')\n",
      "        (drop1): Dropout(p=0.0, inplace=False)\n",
      "        (norm): Identity()\n",
      "        (fc2): Linear(in_features=3072, out_features=768, bias=True)\n",
      "        (drop2): Dropout(p=0.0, inplace=False)\n",
      "      )\n",
      "      (ls2): Identity()\n",
      "      (drop_path2): Identity()\n",
      "    )\n",
      "    (6): Block(\n",
      "      (norm1): LayerNorm((768,), eps=1e-06, elementwise_affine=True)\n",
      "      (attn): Attention(\n",
      "        (qkv): Linear(in_features=768, out_features=2304, bias=True)\n",
      "        (q_norm): Identity()\n",
      "        (k_norm): Identity()\n",
      "        (attn_drop): Dropout(p=0.0, inplace=False)\n",
      "        (proj): Linear(in_features=768, out_features=768, bias=True)\n",
      "        (proj_drop): Dropout(p=0.0, inplace=False)\n",
      "      )\n",
      "      (ls1): Identity()\n",
      "      (drop_path1): Identity()\n",
      "      (norm2): LayerNorm((768,), eps=1e-06, elementwise_affine=True)\n",
      "      (mlp): Mlp(\n",
      "        (fc1): Linear(in_features=768, out_features=3072, bias=True)\n",
      "        (act): GELU(approximate='none')\n",
      "        (drop1): Dropout(p=0.0, inplace=False)\n",
      "        (norm): Identity()\n",
      "        (fc2): Linear(in_features=3072, out_features=768, bias=True)\n",
      "        (drop2): Dropout(p=0.0, inplace=False)\n",
      "      )\n",
      "      (ls2): Identity()\n",
      "      (drop_path2): Identity()\n",
      "    )\n",
      "    (7): Block(\n",
      "      (norm1): LayerNorm((768,), eps=1e-06, elementwise_affine=True)\n",
      "      (attn): Attention(\n",
      "        (qkv): Linear(in_features=768, out_features=2304, bias=True)\n",
      "        (q_norm): Identity()\n",
      "        (k_norm): Identity()\n",
      "        (attn_drop): Dropout(p=0.0, inplace=False)\n",
      "        (proj): Linear(in_features=768, out_features=768, bias=True)\n",
      "        (proj_drop): Dropout(p=0.0, inplace=False)\n",
      "      )\n",
      "      (ls1): Identity()\n",
      "      (drop_path1): Identity()\n",
      "      (norm2): LayerNorm((768,), eps=1e-06, elementwise_affine=True)\n",
      "      (mlp): Mlp(\n",
      "        (fc1): Linear(in_features=768, out_features=3072, bias=True)\n",
      "        (act): GELU(approximate='none')\n",
      "        (drop1): Dropout(p=0.0, inplace=False)\n",
      "        (norm): Identity()\n",
      "        (fc2): Linear(in_features=3072, out_features=768, bias=True)\n",
      "        (drop2): Dropout(p=0.0, inplace=False)\n",
      "      )\n",
      "      (ls2): Identity()\n",
      "      (drop_path2): Identity()\n",
      "    )\n",
      "    (8): Block(\n",
      "      (norm1): LayerNorm((768,), eps=1e-06, elementwise_affine=True)\n",
      "      (attn): Attention(\n",
      "        (qkv): Linear(in_features=768, out_features=2304, bias=True)\n",
      "        (q_norm): Identity()\n",
      "        (k_norm): Identity()\n",
      "        (attn_drop): Dropout(p=0.0, inplace=False)\n",
      "        (proj): Linear(in_features=768, out_features=768, bias=True)\n",
      "        (proj_drop): Dropout(p=0.0, inplace=False)\n",
      "      )\n",
      "      (ls1): Identity()\n",
      "      (drop_path1): Identity()\n",
      "      (norm2): LayerNorm((768,), eps=1e-06, elementwise_affine=True)\n",
      "      (mlp): Mlp(\n",
      "        (fc1): Linear(in_features=768, out_features=3072, bias=True)\n",
      "        (act): GELU(approximate='none')\n",
      "        (drop1): Dropout(p=0.0, inplace=False)\n",
      "        (norm): Identity()\n",
      "        (fc2): Linear(in_features=3072, out_features=768, bias=True)\n",
      "        (drop2): Dropout(p=0.0, inplace=False)\n",
      "      )\n",
      "      (ls2): Identity()\n",
      "      (drop_path2): Identity()\n",
      "    )\n",
      "    (9): Block(\n",
      "      (norm1): LayerNorm((768,), eps=1e-06, elementwise_affine=True)\n",
      "      (attn): Attention(\n",
      "        (qkv): Linear(in_features=768, out_features=2304, bias=True)\n",
      "        (q_norm): Identity()\n",
      "        (k_norm): Identity()\n",
      "        (attn_drop): Dropout(p=0.0, inplace=False)\n",
      "        (proj): Linear(in_features=768, out_features=768, bias=True)\n",
      "        (proj_drop): Dropout(p=0.0, inplace=False)\n",
      "      )\n",
      "      (ls1): Identity()\n",
      "      (drop_path1): Identity()\n",
      "      (norm2): LayerNorm((768,), eps=1e-06, elementwise_affine=True)\n",
      "      (mlp): Mlp(\n",
      "        (fc1): Linear(in_features=768, out_features=3072, bias=True)\n",
      "        (act): GELU(approximate='none')\n",
      "        (drop1): Dropout(p=0.0, inplace=False)\n",
      "        (norm): Identity()\n",
      "        (fc2): Linear(in_features=3072, out_features=768, bias=True)\n",
      "        (drop2): Dropout(p=0.0, inplace=False)\n",
      "      )\n",
      "      (ls2): Identity()\n",
      "      (drop_path2): Identity()\n",
      "    )\n",
      "    (10): Block(\n",
      "      (norm1): LayerNorm((768,), eps=1e-06, elementwise_affine=True)\n",
      "      (attn): Attention(\n",
      "        (qkv): Linear(in_features=768, out_features=2304, bias=True)\n",
      "        (q_norm): Identity()\n",
      "        (k_norm): Identity()\n",
      "        (attn_drop): Dropout(p=0.0, inplace=False)\n",
      "        (proj): Linear(in_features=768, out_features=768, bias=True)\n",
      "        (proj_drop): Dropout(p=0.0, inplace=False)\n",
      "      )\n",
      "      (ls1): Identity()\n",
      "      (drop_path1): Identity()\n",
      "      (norm2): LayerNorm((768,), eps=1e-06, elementwise_affine=True)\n",
      "      (mlp): Mlp(\n",
      "        (fc1): Linear(in_features=768, out_features=3072, bias=True)\n",
      "        (act): GELU(approximate='none')\n",
      "        (drop1): Dropout(p=0.0, inplace=False)\n",
      "        (norm): Identity()\n",
      "        (fc2): Linear(in_features=3072, out_features=768, bias=True)\n",
      "        (drop2): Dropout(p=0.0, inplace=False)\n",
      "      )\n",
      "      (ls2): Identity()\n",
      "      (drop_path2): Identity()\n",
      "    )\n",
      "    (11): Block(\n",
      "      (norm1): LayerNorm((768,), eps=1e-06, elementwise_affine=True)\n",
      "      (attn): Attention(\n",
      "        (qkv): Linear(in_features=768, out_features=2304, bias=True)\n",
      "        (q_norm): Identity()\n",
      "        (k_norm): Identity()\n",
      "        (attn_drop): Dropout(p=0.0, inplace=False)\n",
      "        (proj): Linear(in_features=768, out_features=768, bias=True)\n",
      "        (proj_drop): Dropout(p=0.0, inplace=False)\n",
      "      )\n",
      "      (ls1): Identity()\n",
      "      (drop_path1): Identity()\n",
      "      (norm2): LayerNorm((768,), eps=1e-06, elementwise_affine=True)\n",
      "      (mlp): Mlp(\n",
      "        (fc1): Linear(in_features=768, out_features=3072, bias=True)\n",
      "        (act): GELU(approximate='none')\n",
      "        (drop1): Dropout(p=0.0, inplace=False)\n",
      "        (norm): Identity()\n",
      "        (fc2): Linear(in_features=3072, out_features=768, bias=True)\n",
      "        (drop2): Dropout(p=0.0, inplace=False)\n",
      "      )\n",
      "      (ls2): Identity()\n",
      "      (drop_path2): Identity()\n",
      "    )\n",
      "  )\n",
      "  (norm): LayerNorm((768,), eps=1e-06, elementwise_affine=True)\n",
      "  (fc_norm): Identity()\n",
      "  (head_drop): Dropout(p=0.0, inplace=False)\n",
      "  (head): Linear(in_features=768, out_features=1000, bias=True)\n",
      ")\n"
     ]
    }
   ],
   "source": [
    "# Display model summary\n",
    "print(model)"
   ]
  },
  {
   "cell_type": "code",
   "execution_count": 8,
   "id": "c1ff6b23-8a19-42e3-8ddc-86c737b57e1b",
   "metadata": {},
   "outputs": [
    {
     "data": {
      "text/plain": [
       "VisionTransformer(\n",
       "  (patch_embed): PatchEmbed(\n",
       "    (proj): Conv2d(3, 768, kernel_size=(16, 16), stride=(16, 16))\n",
       "    (norm): Identity()\n",
       "  )\n",
       "  (pos_drop): Dropout(p=0.0, inplace=False)\n",
       "  (patch_drop): Identity()\n",
       "  (norm_pre): Identity()\n",
       "  (blocks): Sequential(\n",
       "    (0): Block(\n",
       "      (norm1): LayerNorm((768,), eps=1e-06, elementwise_affine=True)\n",
       "      (attn): Attention(\n",
       "        (qkv): Linear(in_features=768, out_features=2304, bias=True)\n",
       "        (q_norm): Identity()\n",
       "        (k_norm): Identity()\n",
       "        (attn_drop): Dropout(p=0.0, inplace=False)\n",
       "        (proj): Linear(in_features=768, out_features=768, bias=True)\n",
       "        (proj_drop): Dropout(p=0.0, inplace=False)\n",
       "      )\n",
       "      (ls1): Identity()\n",
       "      (drop_path1): Identity()\n",
       "      (norm2): LayerNorm((768,), eps=1e-06, elementwise_affine=True)\n",
       "      (mlp): Mlp(\n",
       "        (fc1): Linear(in_features=768, out_features=3072, bias=True)\n",
       "        (act): GELU(approximate='none')\n",
       "        (drop1): Dropout(p=0.0, inplace=False)\n",
       "        (norm): Identity()\n",
       "        (fc2): Linear(in_features=3072, out_features=768, bias=True)\n",
       "        (drop2): Dropout(p=0.0, inplace=False)\n",
       "      )\n",
       "      (ls2): Identity()\n",
       "      (drop_path2): Identity()\n",
       "    )\n",
       "    (1): Block(\n",
       "      (norm1): LayerNorm((768,), eps=1e-06, elementwise_affine=True)\n",
       "      (attn): Attention(\n",
       "        (qkv): Linear(in_features=768, out_features=2304, bias=True)\n",
       "        (q_norm): Identity()\n",
       "        (k_norm): Identity()\n",
       "        (attn_drop): Dropout(p=0.0, inplace=False)\n",
       "        (proj): Linear(in_features=768, out_features=768, bias=True)\n",
       "        (proj_drop): Dropout(p=0.0, inplace=False)\n",
       "      )\n",
       "      (ls1): Identity()\n",
       "      (drop_path1): Identity()\n",
       "      (norm2): LayerNorm((768,), eps=1e-06, elementwise_affine=True)\n",
       "      (mlp): Mlp(\n",
       "        (fc1): Linear(in_features=768, out_features=3072, bias=True)\n",
       "        (act): GELU(approximate='none')\n",
       "        (drop1): Dropout(p=0.0, inplace=False)\n",
       "        (norm): Identity()\n",
       "        (fc2): Linear(in_features=3072, out_features=768, bias=True)\n",
       "        (drop2): Dropout(p=0.0, inplace=False)\n",
       "      )\n",
       "      (ls2): Identity()\n",
       "      (drop_path2): Identity()\n",
       "    )\n",
       "    (2): Block(\n",
       "      (norm1): LayerNorm((768,), eps=1e-06, elementwise_affine=True)\n",
       "      (attn): Attention(\n",
       "        (qkv): Linear(in_features=768, out_features=2304, bias=True)\n",
       "        (q_norm): Identity()\n",
       "        (k_norm): Identity()\n",
       "        (attn_drop): Dropout(p=0.0, inplace=False)\n",
       "        (proj): Linear(in_features=768, out_features=768, bias=True)\n",
       "        (proj_drop): Dropout(p=0.0, inplace=False)\n",
       "      )\n",
       "      (ls1): Identity()\n",
       "      (drop_path1): Identity()\n",
       "      (norm2): LayerNorm((768,), eps=1e-06, elementwise_affine=True)\n",
       "      (mlp): Mlp(\n",
       "        (fc1): Linear(in_features=768, out_features=3072, bias=True)\n",
       "        (act): GELU(approximate='none')\n",
       "        (drop1): Dropout(p=0.0, inplace=False)\n",
       "        (norm): Identity()\n",
       "        (fc2): Linear(in_features=3072, out_features=768, bias=True)\n",
       "        (drop2): Dropout(p=0.0, inplace=False)\n",
       "      )\n",
       "      (ls2): Identity()\n",
       "      (drop_path2): Identity()\n",
       "    )\n",
       "    (3): Block(\n",
       "      (norm1): LayerNorm((768,), eps=1e-06, elementwise_affine=True)\n",
       "      (attn): Attention(\n",
       "        (qkv): Linear(in_features=768, out_features=2304, bias=True)\n",
       "        (q_norm): Identity()\n",
       "        (k_norm): Identity()\n",
       "        (attn_drop): Dropout(p=0.0, inplace=False)\n",
       "        (proj): Linear(in_features=768, out_features=768, bias=True)\n",
       "        (proj_drop): Dropout(p=0.0, inplace=False)\n",
       "      )\n",
       "      (ls1): Identity()\n",
       "      (drop_path1): Identity()\n",
       "      (norm2): LayerNorm((768,), eps=1e-06, elementwise_affine=True)\n",
       "      (mlp): Mlp(\n",
       "        (fc1): Linear(in_features=768, out_features=3072, bias=True)\n",
       "        (act): GELU(approximate='none')\n",
       "        (drop1): Dropout(p=0.0, inplace=False)\n",
       "        (norm): Identity()\n",
       "        (fc2): Linear(in_features=3072, out_features=768, bias=True)\n",
       "        (drop2): Dropout(p=0.0, inplace=False)\n",
       "      )\n",
       "      (ls2): Identity()\n",
       "      (drop_path2): Identity()\n",
       "    )\n",
       "    (4): Block(\n",
       "      (norm1): LayerNorm((768,), eps=1e-06, elementwise_affine=True)\n",
       "      (attn): Attention(\n",
       "        (qkv): Linear(in_features=768, out_features=2304, bias=True)\n",
       "        (q_norm): Identity()\n",
       "        (k_norm): Identity()\n",
       "        (attn_drop): Dropout(p=0.0, inplace=False)\n",
       "        (proj): Linear(in_features=768, out_features=768, bias=True)\n",
       "        (proj_drop): Dropout(p=0.0, inplace=False)\n",
       "      )\n",
       "      (ls1): Identity()\n",
       "      (drop_path1): Identity()\n",
       "      (norm2): LayerNorm((768,), eps=1e-06, elementwise_affine=True)\n",
       "      (mlp): Mlp(\n",
       "        (fc1): Linear(in_features=768, out_features=3072, bias=True)\n",
       "        (act): GELU(approximate='none')\n",
       "        (drop1): Dropout(p=0.0, inplace=False)\n",
       "        (norm): Identity()\n",
       "        (fc2): Linear(in_features=3072, out_features=768, bias=True)\n",
       "        (drop2): Dropout(p=0.0, inplace=False)\n",
       "      )\n",
       "      (ls2): Identity()\n",
       "      (drop_path2): Identity()\n",
       "    )\n",
       "    (5): Block(\n",
       "      (norm1): LayerNorm((768,), eps=1e-06, elementwise_affine=True)\n",
       "      (attn): Attention(\n",
       "        (qkv): Linear(in_features=768, out_features=2304, bias=True)\n",
       "        (q_norm): Identity()\n",
       "        (k_norm): Identity()\n",
       "        (attn_drop): Dropout(p=0.0, inplace=False)\n",
       "        (proj): Linear(in_features=768, out_features=768, bias=True)\n",
       "        (proj_drop): Dropout(p=0.0, inplace=False)\n",
       "      )\n",
       "      (ls1): Identity()\n",
       "      (drop_path1): Identity()\n",
       "      (norm2): LayerNorm((768,), eps=1e-06, elementwise_affine=True)\n",
       "      (mlp): Mlp(\n",
       "        (fc1): Linear(in_features=768, out_features=3072, bias=True)\n",
       "        (act): GELU(approximate='none')\n",
       "        (drop1): Dropout(p=0.0, inplace=False)\n",
       "        (norm): Identity()\n",
       "        (fc2): Linear(in_features=3072, out_features=768, bias=True)\n",
       "        (drop2): Dropout(p=0.0, inplace=False)\n",
       "      )\n",
       "      (ls2): Identity()\n",
       "      (drop_path2): Identity()\n",
       "    )\n",
       "    (6): Block(\n",
       "      (norm1): LayerNorm((768,), eps=1e-06, elementwise_affine=True)\n",
       "      (attn): Attention(\n",
       "        (qkv): Linear(in_features=768, out_features=2304, bias=True)\n",
       "        (q_norm): Identity()\n",
       "        (k_norm): Identity()\n",
       "        (attn_drop): Dropout(p=0.0, inplace=False)\n",
       "        (proj): Linear(in_features=768, out_features=768, bias=True)\n",
       "        (proj_drop): Dropout(p=0.0, inplace=False)\n",
       "      )\n",
       "      (ls1): Identity()\n",
       "      (drop_path1): Identity()\n",
       "      (norm2): LayerNorm((768,), eps=1e-06, elementwise_affine=True)\n",
       "      (mlp): Mlp(\n",
       "        (fc1): Linear(in_features=768, out_features=3072, bias=True)\n",
       "        (act): GELU(approximate='none')\n",
       "        (drop1): Dropout(p=0.0, inplace=False)\n",
       "        (norm): Identity()\n",
       "        (fc2): Linear(in_features=3072, out_features=768, bias=True)\n",
       "        (drop2): Dropout(p=0.0, inplace=False)\n",
       "      )\n",
       "      (ls2): Identity()\n",
       "      (drop_path2): Identity()\n",
       "    )\n",
       "    (7): Block(\n",
       "      (norm1): LayerNorm((768,), eps=1e-06, elementwise_affine=True)\n",
       "      (attn): Attention(\n",
       "        (qkv): Linear(in_features=768, out_features=2304, bias=True)\n",
       "        (q_norm): Identity()\n",
       "        (k_norm): Identity()\n",
       "        (attn_drop): Dropout(p=0.0, inplace=False)\n",
       "        (proj): Linear(in_features=768, out_features=768, bias=True)\n",
       "        (proj_drop): Dropout(p=0.0, inplace=False)\n",
       "      )\n",
       "      (ls1): Identity()\n",
       "      (drop_path1): Identity()\n",
       "      (norm2): LayerNorm((768,), eps=1e-06, elementwise_affine=True)\n",
       "      (mlp): Mlp(\n",
       "        (fc1): Linear(in_features=768, out_features=3072, bias=True)\n",
       "        (act): GELU(approximate='none')\n",
       "        (drop1): Dropout(p=0.0, inplace=False)\n",
       "        (norm): Identity()\n",
       "        (fc2): Linear(in_features=3072, out_features=768, bias=True)\n",
       "        (drop2): Dropout(p=0.0, inplace=False)\n",
       "      )\n",
       "      (ls2): Identity()\n",
       "      (drop_path2): Identity()\n",
       "    )\n",
       "    (8): Block(\n",
       "      (norm1): LayerNorm((768,), eps=1e-06, elementwise_affine=True)\n",
       "      (attn): Attention(\n",
       "        (qkv): Linear(in_features=768, out_features=2304, bias=True)\n",
       "        (q_norm): Identity()\n",
       "        (k_norm): Identity()\n",
       "        (attn_drop): Dropout(p=0.0, inplace=False)\n",
       "        (proj): Linear(in_features=768, out_features=768, bias=True)\n",
       "        (proj_drop): Dropout(p=0.0, inplace=False)\n",
       "      )\n",
       "      (ls1): Identity()\n",
       "      (drop_path1): Identity()\n",
       "      (norm2): LayerNorm((768,), eps=1e-06, elementwise_affine=True)\n",
       "      (mlp): Mlp(\n",
       "        (fc1): Linear(in_features=768, out_features=3072, bias=True)\n",
       "        (act): GELU(approximate='none')\n",
       "        (drop1): Dropout(p=0.0, inplace=False)\n",
       "        (norm): Identity()\n",
       "        (fc2): Linear(in_features=3072, out_features=768, bias=True)\n",
       "        (drop2): Dropout(p=0.0, inplace=False)\n",
       "      )\n",
       "      (ls2): Identity()\n",
       "      (drop_path2): Identity()\n",
       "    )\n",
       "    (9): Block(\n",
       "      (norm1): LayerNorm((768,), eps=1e-06, elementwise_affine=True)\n",
       "      (attn): Attention(\n",
       "        (qkv): Linear(in_features=768, out_features=2304, bias=True)\n",
       "        (q_norm): Identity()\n",
       "        (k_norm): Identity()\n",
       "        (attn_drop): Dropout(p=0.0, inplace=False)\n",
       "        (proj): Linear(in_features=768, out_features=768, bias=True)\n",
       "        (proj_drop): Dropout(p=0.0, inplace=False)\n",
       "      )\n",
       "      (ls1): Identity()\n",
       "      (drop_path1): Identity()\n",
       "      (norm2): LayerNorm((768,), eps=1e-06, elementwise_affine=True)\n",
       "      (mlp): Mlp(\n",
       "        (fc1): Linear(in_features=768, out_features=3072, bias=True)\n",
       "        (act): GELU(approximate='none')\n",
       "        (drop1): Dropout(p=0.0, inplace=False)\n",
       "        (norm): Identity()\n",
       "        (fc2): Linear(in_features=3072, out_features=768, bias=True)\n",
       "        (drop2): Dropout(p=0.0, inplace=False)\n",
       "      )\n",
       "      (ls2): Identity()\n",
       "      (drop_path2): Identity()\n",
       "    )\n",
       "    (10): Block(\n",
       "      (norm1): LayerNorm((768,), eps=1e-06, elementwise_affine=True)\n",
       "      (attn): Attention(\n",
       "        (qkv): Linear(in_features=768, out_features=2304, bias=True)\n",
       "        (q_norm): Identity()\n",
       "        (k_norm): Identity()\n",
       "        (attn_drop): Dropout(p=0.0, inplace=False)\n",
       "        (proj): Linear(in_features=768, out_features=768, bias=True)\n",
       "        (proj_drop): Dropout(p=0.0, inplace=False)\n",
       "      )\n",
       "      (ls1): Identity()\n",
       "      (drop_path1): Identity()\n",
       "      (norm2): LayerNorm((768,), eps=1e-06, elementwise_affine=True)\n",
       "      (mlp): Mlp(\n",
       "        (fc1): Linear(in_features=768, out_features=3072, bias=True)\n",
       "        (act): GELU(approximate='none')\n",
       "        (drop1): Dropout(p=0.0, inplace=False)\n",
       "        (norm): Identity()\n",
       "        (fc2): Linear(in_features=3072, out_features=768, bias=True)\n",
       "        (drop2): Dropout(p=0.0, inplace=False)\n",
       "      )\n",
       "      (ls2): Identity()\n",
       "      (drop_path2): Identity()\n",
       "    )\n",
       "    (11): Block(\n",
       "      (norm1): LayerNorm((768,), eps=1e-06, elementwise_affine=True)\n",
       "      (attn): Attention(\n",
       "        (qkv): Linear(in_features=768, out_features=2304, bias=True)\n",
       "        (q_norm): Identity()\n",
       "        (k_norm): Identity()\n",
       "        (attn_drop): Dropout(p=0.0, inplace=False)\n",
       "        (proj): Linear(in_features=768, out_features=768, bias=True)\n",
       "        (proj_drop): Dropout(p=0.0, inplace=False)\n",
       "      )\n",
       "      (ls1): Identity()\n",
       "      (drop_path1): Identity()\n",
       "      (norm2): LayerNorm((768,), eps=1e-06, elementwise_affine=True)\n",
       "      (mlp): Mlp(\n",
       "        (fc1): Linear(in_features=768, out_features=3072, bias=True)\n",
       "        (act): GELU(approximate='none')\n",
       "        (drop1): Dropout(p=0.0, inplace=False)\n",
       "        (norm): Identity()\n",
       "        (fc2): Linear(in_features=3072, out_features=768, bias=True)\n",
       "        (drop2): Dropout(p=0.0, inplace=False)\n",
       "      )\n",
       "      (ls2): Identity()\n",
       "      (drop_path2): Identity()\n",
       "    )\n",
       "  )\n",
       "  (norm): LayerNorm((768,), eps=1e-06, elementwise_affine=True)\n",
       "  (fc_norm): Identity()\n",
       "  (head_drop): Dropout(p=0.0, inplace=False)\n",
       "  (head): Linear(in_features=768, out_features=1000, bias=True)\n",
       ")"
      ]
     },
     "execution_count": 8,
     "metadata": {},
     "output_type": "execute_result"
    }
   ],
   "source": [
    "# Transfer model to GPU if available\n",
    "device = torch.device(\"cuda\" if torch.cuda.is_available() else \"cpu\")\n",
    "model.to(device)"
   ]
  },
  {
   "cell_type": "code",
   "execution_count": 8,
   "id": "b2675268-9b3e-47ba-a5f1-6c0dc0d5e181",
   "metadata": {},
   "outputs": [],
   "source": [
    "# Define loss function with label smoothing\n",
    "class SmoothCrossEntropyLoss(nn.Module):\n",
    "    def __init__(self, smoothing=0.1):\n",
    "        super(SmoothCrossEntropyLoss, self).__init__()\n",
    "        self.smoothing = smoothing\n",
    "\n",
    "    def forward(self, input, target):\n",
    "        log_prob = torch.nn.functional.log_softmax(input, dim=-1)\n",
    "        weight = input.new_ones(input.size()) * \\\n",
    "            self.smoothing / (input.size(-1) - 1.)\n",
    "        weight.scatter_(-1, target.unsqueeze(-1), (1. - self.smoothing))\n",
    "        loss = (-weight * log_prob).sum(dim=-1).mean()\n",
    "        return loss"
   ]
  },
  {
   "cell_type": "code",
   "execution_count": 9,
   "id": "b7f587b4-02f6-4ef5-a3b5-c7b211448ed1",
   "metadata": {},
   "outputs": [],
   "source": [
    "criterion = SmoothCrossEntropyLoss()\n",
    "optimizer = optim.Adam(model.parameters(), lr=0.0001)"
   ]
  },
  {
   "cell_type": "code",
   "execution_count": 10,
   "id": "6fae443a-d599-4733-88bd-bd043c83abe8",
   "metadata": {},
   "outputs": [],
   "source": [
    "# Training loop\n",
    "train_loss_list = []\n",
    "train_acc_list = []\n",
    "val_loss_list = []\n",
    "val_acc_list = []"
   ]
  },
  {
   "cell_type": "code",
   "execution_count": null,
   "id": "cc1b20d8-d124-4db8-8182-98021aff4e86",
   "metadata": {},
   "outputs": [
    {
     "name": "stderr",
     "output_type": "stream",
     "text": [
      "Epoch 1/45: 100%|█████████████| 1729/1729 [40:52<00:00,  1.42s/it, Train Loss=1.32, Train Acc=0.901]\n"
     ]
    },
    {
     "name": "stdout",
     "output_type": "stream",
     "text": [
      "Epoch [1/45], Train Loss: 1.3223, Train Acc: 0.9015, Val Loss: 1.7092, Val Acc: 0.8421\n"
     ]
    },
    {
     "name": "stderr",
     "output_type": "stream",
     "text": [
      "Epoch 2/45: 100%|█████████████| 1729/1729 [40:40<00:00,  1.41s/it, Train Loss=1.13, Train Acc=0.958]\n"
     ]
    },
    {
     "name": "stdout",
     "output_type": "stream",
     "text": [
      "Epoch [2/45], Train Loss: 1.1316, Train Acc: 0.9585, Val Loss: 1.6181, Val Acc: 0.8655\n"
     ]
    },
    {
     "name": "stderr",
     "output_type": "stream",
     "text": [
      "Epoch 3/45: 100%|██████████████| 1729/1729 [40:45<00:00,  1.41s/it, Train Loss=1.1, Train Acc=0.971]\n"
     ]
    },
    {
     "name": "stdout",
     "output_type": "stream",
     "text": [
      "Epoch [3/45], Train Loss: 1.1001, Train Acc: 0.9709, Val Loss: 1.6929, Val Acc: 0.8536\n"
     ]
    },
    {
     "name": "stderr",
     "output_type": "stream",
     "text": [
      "Epoch 4/45: 100%|█████████████| 1729/1729 [41:35<00:00,  1.44s/it, Train Loss=1.08, Train Acc=0.977]\n"
     ]
    },
    {
     "name": "stdout",
     "output_type": "stream",
     "text": [
      "Epoch [4/45], Train Loss: 1.0829, Train Acc: 0.9769, Val Loss: 1.7011, Val Acc: 0.8627\n"
     ]
    },
    {
     "name": "stderr",
     "output_type": "stream",
     "text": [
      "Epoch 5/45: 100%|██████████████| 1729/1729 [42:49<00:00,  1.49s/it, Train Loss=1.07, Train Acc=0.98]\n"
     ]
    },
    {
     "name": "stdout",
     "output_type": "stream",
     "text": [
      "Epoch [5/45], Train Loss: 1.0733, Train Acc: 0.9803, Val Loss: 1.6817, Val Acc: 0.8671\n"
     ]
    },
    {
     "name": "stderr",
     "output_type": "stream",
     "text": [
      "Epoch 6/45: 100%|█████████████| 1729/1729 [44:06<00:00,  1.53s/it, Train Loss=1.06, Train Acc=0.984]\n"
     ]
    },
    {
     "name": "stdout",
     "output_type": "stream",
     "text": [
      "Epoch [6/45], Train Loss: 1.0632, Train Acc: 0.9844, Val Loss: 1.6949, Val Acc: 0.8632\n"
     ]
    },
    {
     "name": "stderr",
     "output_type": "stream",
     "text": [
      "Epoch 7/45: 100%|█████████████| 1729/1729 [49:40<00:00,  1.72s/it, Train Loss=1.06, Train Acc=0.986]\n"
     ]
    },
    {
     "name": "stdout",
     "output_type": "stream",
     "text": [
      "Epoch [7/45], Train Loss: 1.0588, Train Acc: 0.9856, Val Loss: 1.7269, Val Acc: 0.8594\n"
     ]
    },
    {
     "name": "stderr",
     "output_type": "stream",
     "text": [
      "Epoch 8/45: 100%|█████████████| 1729/1729 [49:38<00:00,  1.72s/it, Train Loss=1.06, Train Acc=0.986]\n"
     ]
    },
    {
     "name": "stdout",
     "output_type": "stream",
     "text": [
      "Epoch [8/45], Train Loss: 1.0562, Train Acc: 0.9864, Val Loss: 1.7219, Val Acc: 0.8591\n"
     ]
    },
    {
     "name": "stderr",
     "output_type": "stream",
     "text": [
      "Epoch 9/45: 100%|█████████████| 1729/1729 [49:46<00:00,  1.73s/it, Train Loss=1.05, Train Acc=0.988]\n"
     ]
    },
    {
     "name": "stdout",
     "output_type": "stream",
     "text": [
      "Epoch [9/45], Train Loss: 1.0534, Train Acc: 0.9881, Val Loss: 1.7138, Val Acc: 0.8711\n"
     ]
    },
    {
     "name": "stderr",
     "output_type": "stream",
     "text": [
      "Epoch 10/45: 100%|█████████████| 1729/1729 [49:56<00:00,  1.73s/it, Train Loss=1.05, Train Acc=0.99]\n"
     ]
    },
    {
     "name": "stdout",
     "output_type": "stream",
     "text": [
      "Epoch [10/45], Train Loss: 1.0461, Train Acc: 0.9901, Val Loss: 1.7383, Val Acc: 0.8638\n"
     ]
    },
    {
     "name": "stderr",
     "output_type": "stream",
     "text": [
      "Epoch 11/45: 100%|█████████████| 1729/1729 [50:52<00:00,  1.77s/it, Train Loss=1.05, Train Acc=0.99]\n"
     ]
    },
    {
     "name": "stdout",
     "output_type": "stream",
     "text": [
      "Epoch [11/45], Train Loss: 1.0484, Train Acc: 0.9896, Val Loss: 1.7068, Val Acc: 0.8715\n"
     ]
    },
    {
     "name": "stderr",
     "output_type": "stream",
     "text": [
      "Epoch 12/45: 100%|████████████| 1729/1729 [52:36<00:00,  1.83s/it, Train Loss=1.04, Train Acc=0.991]\n"
     ]
    },
    {
     "name": "stdout",
     "output_type": "stream",
     "text": [
      "Epoch [12/45], Train Loss: 1.0443, Train Acc: 0.9909, Val Loss: 1.7482, Val Acc: 0.8724\n"
     ]
    },
    {
     "name": "stderr",
     "output_type": "stream",
     "text": [
      "Epoch 13/45: 100%|████████████| 1729/1729 [49:14<00:00,  1.71s/it, Train Loss=1.04, Train Acc=0.991]\n"
     ]
    },
    {
     "name": "stdout",
     "output_type": "stream",
     "text": [
      "Epoch [13/45], Train Loss: 1.0433, Train Acc: 0.9912, Val Loss: 1.7243, Val Acc: 0.8694\n"
     ]
    },
    {
     "name": "stderr",
     "output_type": "stream",
     "text": [
      "Epoch 14/45: 100%|████████████| 1729/1729 [49:24<00:00,  1.71s/it, Train Loss=1.04, Train Acc=0.991]\n"
     ]
    },
    {
     "name": "stdout",
     "output_type": "stream",
     "text": [
      "Epoch [14/45], Train Loss: 1.0427, Train Acc: 0.9913, Val Loss: 1.7068, Val Acc: 0.8673\n"
     ]
    },
    {
     "name": "stderr",
     "output_type": "stream",
     "text": [
      "Epoch 15/45: 100%|████████████| 1729/1729 [40:34<00:00,  1.41s/it, Train Loss=1.04, Train Acc=0.992]\n"
     ]
    },
    {
     "name": "stdout",
     "output_type": "stream",
     "text": [
      "Epoch [15/45], Train Loss: 1.0409, Train Acc: 0.9916, Val Loss: 1.6896, Val Acc: 0.8740\n"
     ]
    },
    {
     "name": "stderr",
     "output_type": "stream",
     "text": [
      "Epoch 16/45: 100%|████████████| 1729/1729 [40:28<00:00,  1.40s/it, Train Loss=1.04, Train Acc=0.991]\n"
     ]
    },
    {
     "name": "stdout",
     "output_type": "stream",
     "text": [
      "Epoch [16/45], Train Loss: 1.0424, Train Acc: 0.9914, Val Loss: 1.7641, Val Acc: 0.8687\n"
     ]
    },
    {
     "name": "stderr",
     "output_type": "stream",
     "text": [
      "Epoch 17/45: 100%|████████████| 1729/1729 [40:18<00:00,  1.40s/it, Train Loss=1.04, Train Acc=0.992]\n"
     ]
    },
    {
     "name": "stdout",
     "output_type": "stream",
     "text": [
      "Epoch [17/45], Train Loss: 1.0395, Train Acc: 0.9922, Val Loss: 1.7357, Val Acc: 0.8638\n"
     ]
    },
    {
     "name": "stderr",
     "output_type": "stream",
     "text": [
      "Epoch 18/45: 100%|████████████| 1729/1729 [40:23<00:00,  1.40s/it, Train Loss=1.04, Train Acc=0.991]\n"
     ]
    },
    {
     "name": "stdout",
     "output_type": "stream",
     "text": [
      "Epoch [18/45], Train Loss: 1.0417, Train Acc: 0.9913, Val Loss: 1.7400, Val Acc: 0.8619\n"
     ]
    },
    {
     "name": "stderr",
     "output_type": "stream",
     "text": [
      "Epoch 19/45: 100%|████████████| 1729/1729 [40:20<00:00,  1.40s/it, Train Loss=1.04, Train Acc=0.993]\n"
     ]
    },
    {
     "name": "stdout",
     "output_type": "stream",
     "text": [
      "Epoch [19/45], Train Loss: 1.0370, Train Acc: 0.9933, Val Loss: 1.7486, Val Acc: 0.8594\n"
     ]
    },
    {
     "name": "stderr",
     "output_type": "stream",
     "text": [
      "Epoch 20/45: 100%|████████████| 1729/1729 [40:22<00:00,  1.40s/it, Train Loss=1.04, Train Acc=0.994]\n"
     ]
    },
    {
     "name": "stdout",
     "output_type": "stream",
     "text": [
      "Epoch [20/45], Train Loss: 1.0359, Train Acc: 0.9938, Val Loss: 1.7472, Val Acc: 0.8717\n"
     ]
    },
    {
     "name": "stderr",
     "output_type": "stream",
     "text": [
      "Epoch 21/45: 100%|████████████| 1729/1729 [41:21<00:00,  1.44s/it, Train Loss=1.04, Train Acc=0.993]\n"
     ]
    },
    {
     "name": "stdout",
     "output_type": "stream",
     "text": [
      "Epoch [21/45], Train Loss: 1.0383, Train Acc: 0.9928, Val Loss: 1.7357, Val Acc: 0.8723\n"
     ]
    },
    {
     "name": "stderr",
     "output_type": "stream",
     "text": [
      "Epoch 22/45: 100%|██████████| 1729/1729 [1:22:50<00:00,  2.88s/it, Train Loss=1.03, Train Acc=0.994]\n"
     ]
    },
    {
     "name": "stdout",
     "output_type": "stream",
     "text": [
      "Epoch [22/45], Train Loss: 1.0336, Train Acc: 0.9942, Val Loss: 1.7570, Val Acc: 0.8667\n"
     ]
    },
    {
     "name": "stderr",
     "output_type": "stream",
     "text": [
      "Epoch 23/45: 100%|██████████| 1729/1729 [1:37:13<00:00,  3.37s/it, Train Loss=1.04, Train Acc=0.994]\n"
     ]
    },
    {
     "name": "stdout",
     "output_type": "stream",
     "text": [
      "Epoch [23/45], Train Loss: 1.0356, Train Acc: 0.9939, Val Loss: 1.7515, Val Acc: 0.8711\n"
     ]
    },
    {
     "name": "stderr",
     "output_type": "stream",
     "text": [
      "Epoch 24/45: 100%|██████████| 1729/1729 [1:38:12<00:00,  3.41s/it, Train Loss=1.04, Train Acc=0.993]\n"
     ]
    },
    {
     "name": "stdout",
     "output_type": "stream",
     "text": [
      "Epoch [24/45], Train Loss: 1.0357, Train Acc: 0.9932, Val Loss: 1.7646, Val Acc: 0.8665\n"
     ]
    },
    {
     "name": "stderr",
     "output_type": "stream",
     "text": [
      "Epoch 25/45: 100%|██████████| 1729/1729 [1:14:08<00:00,  2.57s/it, Train Loss=1.03, Train Acc=0.995]\n"
     ]
    },
    {
     "name": "stdout",
     "output_type": "stream",
     "text": [
      "Epoch [25/45], Train Loss: 1.0326, Train Acc: 0.9947, Val Loss: 1.7494, Val Acc: 0.8706\n"
     ]
    },
    {
     "name": "stderr",
     "output_type": "stream",
     "text": [
      "Epoch 26/45: 100%|████████████| 1729/1729 [40:25<00:00,  1.40s/it, Train Loss=1.04, Train Acc=0.993]\n"
     ]
    },
    {
     "name": "stdout",
     "output_type": "stream",
     "text": [
      "Epoch [26/45], Train Loss: 1.0361, Train Acc: 0.9934, Val Loss: 1.7965, Val Acc: 0.8586\n"
     ]
    },
    {
     "name": "stderr",
     "output_type": "stream",
     "text": [
      "Epoch 27/45: 100%|████████████| 1729/1729 [40:32<00:00,  1.41s/it, Train Loss=1.03, Train Acc=0.994]\n"
     ]
    },
    {
     "name": "stdout",
     "output_type": "stream",
     "text": [
      "Epoch [27/45], Train Loss: 1.0336, Train Acc: 0.9942, Val Loss: 1.7710, Val Acc: 0.8629\n"
     ]
    },
    {
     "name": "stderr",
     "output_type": "stream",
     "text": [
      "Epoch 28/45: 100%|████████████| 1729/1729 [40:38<00:00,  1.41s/it, Train Loss=1.03, Train Acc=0.995]\n"
     ]
    },
    {
     "name": "stdout",
     "output_type": "stream",
     "text": [
      "Epoch [28/45], Train Loss: 1.0328, Train Acc: 0.9946, Val Loss: 1.8149, Val Acc: 0.8639\n"
     ]
    },
    {
     "name": "stderr",
     "output_type": "stream",
     "text": [
      "Epoch 29/45: 100%|████████████| 1729/1729 [40:33<00:00,  1.41s/it, Train Loss=1.03, Train Acc=0.995]\n"
     ]
    },
    {
     "name": "stdout",
     "output_type": "stream",
     "text": [
      "Epoch [29/45], Train Loss: 1.0329, Train Acc: 0.9946, Val Loss: 1.7919, Val Acc: 0.8653\n"
     ]
    },
    {
     "name": "stderr",
     "output_type": "stream",
     "text": [
      "Epoch 30/45: 100%|████████████| 1729/1729 [40:24<00:00,  1.40s/it, Train Loss=1.03, Train Acc=0.994]\n"
     ]
    },
    {
     "name": "stdout",
     "output_type": "stream",
     "text": [
      "Epoch [30/45], Train Loss: 1.0336, Train Acc: 0.9940, Val Loss: 1.7840, Val Acc: 0.8708\n"
     ]
    },
    {
     "name": "stderr",
     "output_type": "stream",
     "text": [
      "Epoch 31/45: 100%|████████████| 1729/1729 [40:46<00:00,  1.42s/it, Train Loss=1.03, Train Acc=0.995]\n"
     ]
    },
    {
     "name": "stdout",
     "output_type": "stream",
     "text": [
      "Epoch [31/45], Train Loss: 1.0319, Train Acc: 0.9948, Val Loss: 1.7753, Val Acc: 0.8636\n"
     ]
    },
    {
     "name": "stderr",
     "output_type": "stream",
     "text": [
      "Epoch 32/45: 100%|████████████| 1729/1729 [50:38<00:00,  1.76s/it, Train Loss=1.03, Train Acc=0.995]\n"
     ]
    },
    {
     "name": "stdout",
     "output_type": "stream",
     "text": [
      "Epoch [32/45], Train Loss: 1.0319, Train Acc: 0.9945, Val Loss: 1.7844, Val Acc: 0.8582\n"
     ]
    },
    {
     "name": "stderr",
     "output_type": "stream",
     "text": [
      "Epoch 33/45: 100%|████████████| 1729/1729 [40:41<00:00,  1.41s/it, Train Loss=1.03, Train Acc=0.995]\n"
     ]
    },
    {
     "name": "stdout",
     "output_type": "stream",
     "text": [
      "Epoch [33/45], Train Loss: 1.0327, Train Acc: 0.9946, Val Loss: 1.7427, Val Acc: 0.8696\n"
     ]
    },
    {
     "name": "stderr",
     "output_type": "stream",
     "text": [
      "Epoch 34/45: 100%|████████████| 1729/1729 [40:43<00:00,  1.41s/it, Train Loss=1.03, Train Acc=0.995]\n"
     ]
    },
    {
     "name": "stdout",
     "output_type": "stream",
     "text": [
      "Epoch [34/45], Train Loss: 1.0295, Train Acc: 0.9954, Val Loss: 1.7533, Val Acc: 0.8732\n"
     ]
    },
    {
     "name": "stderr",
     "output_type": "stream",
     "text": [
      "Epoch 35/45: 100%|██████████| 1729/1729 [1:01:39<00:00,  2.14s/it, Train Loss=1.03, Train Acc=0.995]\n"
     ]
    },
    {
     "name": "stdout",
     "output_type": "stream",
     "text": [
      "Epoch [35/45], Train Loss: 1.0316, Train Acc: 0.9948, Val Loss: 1.8483, Val Acc: 0.8550\n"
     ]
    },
    {
     "name": "stderr",
     "output_type": "stream",
     "text": [
      "Epoch 36/45: 100%|██████████| 1729/1729 [1:03:14<00:00,  2.19s/it, Train Loss=1.03, Train Acc=0.995]\n"
     ]
    },
    {
     "name": "stdout",
     "output_type": "stream",
     "text": [
      "Epoch [36/45], Train Loss: 1.0317, Train Acc: 0.9948, Val Loss: 1.7619, Val Acc: 0.8729\n"
     ]
    },
    {
     "name": "stderr",
     "output_type": "stream",
     "text": [
      "Epoch 37/45: 100%|████████████| 1729/1729 [47:41<00:00,  1.65s/it, Train Loss=1.03, Train Acc=0.995]\n"
     ]
    },
    {
     "name": "stdout",
     "output_type": "stream",
     "text": [
      "Epoch [37/45], Train Loss: 1.0325, Train Acc: 0.9947, Val Loss: 1.7711, Val Acc: 0.8571\n"
     ]
    },
    {
     "name": "stderr",
     "output_type": "stream",
     "text": [
      "Epoch 38/45: 100%|████████████| 1729/1729 [50:32<00:00,  1.75s/it, Train Loss=1.03, Train Acc=0.995]\n"
     ]
    },
    {
     "name": "stdout",
     "output_type": "stream",
     "text": [
      "Epoch [38/45], Train Loss: 1.0324, Train Acc: 0.9946, Val Loss: 1.7856, Val Acc: 0.8694\n"
     ]
    },
    {
     "name": "stderr",
     "output_type": "stream",
     "text": [
      "Epoch 39/45: 100%|████████████| 1729/1729 [40:48<00:00,  1.42s/it, Train Loss=1.03, Train Acc=0.995]\n"
     ]
    },
    {
     "name": "stdout",
     "output_type": "stream",
     "text": [
      "Epoch [39/45], Train Loss: 1.0313, Train Acc: 0.9945, Val Loss: 1.7533, Val Acc: 0.8717\n"
     ]
    },
    {
     "name": "stderr",
     "output_type": "stream",
     "text": [
      "Epoch 40/45:  58%|███████▍     | 995/1729 [23:25<16:43,  1.37s/it, Train Loss=1.03, Train Acc=0.997]"
     ]
    }
   ],
   "source": [
    "best_val_acc = 0.0\n",
    "for epoch in range(45):\n",
    "    # Training\n",
    "    model.train()\n",
    "    train_loss = 0.0\n",
    "    correct_train = 0\n",
    "    total_train = 0\n",
    "    \n",
    "    # Use tqdm for progress bar\n",
    "    pbar = tqdm(train_loader, desc=f'Epoch {epoch + 1}/45', ncols=100)\n",
    "    for inputs, labels in pbar:\n",
    "        inputs, labels = inputs.to(device), labels.to(device)\n",
    "        optimizer.zero_grad()\n",
    "        outputs = model(inputs)\n",
    "        loss = criterion(outputs, labels)\n",
    "        loss.backward()\n",
    "        optimizer.step()\n",
    "        train_loss += loss.item()\n",
    "        _, predicted = torch.max(outputs, 1)\n",
    "        total_train += labels.size(0)\n",
    "        correct_train += (predicted == labels).sum().item()\n",
    "        train_acc = correct_train / total_train\n",
    "        pbar.set_postfix({'Train Loss': train_loss / (total_train / train_loader.batch_size), 'Train Acc': train_acc})\n",
    "    \n",
    "    train_loss_list.append(train_loss / len(train_loader))\n",
    "    train_acc_list.append(train_acc)\n",
    "\n",
    "    # Validation\n",
    "    model.eval()\n",
    "    val_loss = 0.0\n",
    "    correct_val = 0\n",
    "    total_val = 0\n",
    "    with torch.no_grad():\n",
    "        for inputs, labels in val_loader:\n",
    "            inputs, labels = inputs.to(device), labels.to(device)\n",
    "            outputs = model(inputs)\n",
    "            loss = criterion(outputs, labels)\n",
    "            val_loss += loss.item()\n",
    "            _, predicted = torch.max(outputs, 1)\n",
    "            total_val += labels.size(0)\n",
    "            correct_val += (predicted == labels).sum().item()\n",
    "\n",
    "    val_loss_list.append(val_loss / len(val_loader))\n",
    "    val_acc_list.append(correct_val / total_val)\n",
    "\n",
    "    print(f'Epoch [{epoch + 1}/45], Train Loss: {train_loss_list[-1]:.4f}, Train Acc: {train_acc_list[-1]:.4f}, Val Loss: {val_loss_list[-1]:.4f}, Val Acc: {val_acc_list[-1]:.4f}')\n",
    "\n",
    "    # Save model with best validation accuracy\n",
    "    if val_acc_list[-1] > best_val_acc:\n",
    "        best_val_acc = val_acc_list[-1]\n",
    "        torch.save(model.state_dict(), 'deit_pdmd.pth')"
   ]
  },
  {
   "cell_type": "code",
   "execution_count": 1,
   "id": "e74df8b7",
   "metadata": {},
   "outputs": [
    {
     "ename": "NameError",
     "evalue": "name 'train_loss_list' is not defined",
     "output_type": "error",
     "traceback": [
      "\u001b[1;31m---------------------------------------------------------------------------\u001b[0m",
      "\u001b[1;31mNameError\u001b[0m                                 Traceback (most recent call last)",
      "Cell \u001b[1;32mIn[1], line 1\u001b[0m\n\u001b[1;32m----> 1\u001b[0m \u001b[38;5;28mprint\u001b[39m(\u001b[38;5;124m\"\u001b[39m\u001b[38;5;124mtrain_loss_list = \u001b[39m\u001b[38;5;124m\"\u001b[39m,train_loss_list)\n\u001b[0;32m      2\u001b[0m \u001b[38;5;28mprint\u001b[39m(\u001b[38;5;124m\"\u001b[39m\u001b[38;5;124mval_loss_list = \u001b[39m\u001b[38;5;124m\"\u001b[39m, val_loss_list)\n\u001b[0;32m      3\u001b[0m \u001b[38;5;28mprint\u001b[39m(\u001b[38;5;124m\"\u001b[39m\u001b[38;5;124mtrain_acc_list = \u001b[39m\u001b[38;5;124m\"\u001b[39m,train_acc_list)\n",
      "\u001b[1;31mNameError\u001b[0m: name 'train_loss_list' is not defined"
     ]
    }
   ],
   "source": [
    "print(\"train_loss_list = \",train_loss_list)\n",
    "print(\"val_loss_list = \", val_loss_list)\n",
    "print(\"train_acc_list = \",train_acc_list)\n",
    "print(\"val_acc_list = \", val_acc_list)"
   ]
  },
  {
   "cell_type": "code",
   "execution_count": null,
   "id": "d1e31b4d-bf98-4ee9-b1ed-a225a580b2a8",
   "metadata": {},
   "outputs": [],
   "source": [
    "# Plotting training curves\n",
    "plt.figure(figsize=(10, 5))\n",
    "plt.plot(train_loss_list, label='Train Loss')\n",
    "plt.plot(val_loss_list, label='Val Loss')\n",
    "plt.xlabel('Epochs')\n",
    "plt.ylabel('Loss')\n",
    "plt.title('Training and Validation Loss')\n",
    "plt.legend()\n",
    "plt.show()"
   ]
  },
  {
   "cell_type": "code",
   "execution_count": null,
   "id": "292c0433-ba4f-428b-b751-e9c062b0bb01",
   "metadata": {},
   "outputs": [],
   "source": [
    "plt.figure(figsize=(10, 5))\n",
    "plt.plot(train_acc_list, label='Train Acc')\n",
    "plt.plot(val_acc_list, label='Val Acc')\n",
    "plt.xlabel('Epochs')\n",
    "plt.ylabel('Accuracy')\n",
    "plt.title('Training and Validation Accuracy')\n",
    "plt.legend()\n",
    "plt.show()"
   ]
  },
  {
   "cell_type": "code",
   "execution_count": 9,
   "id": "6e8a608b-5eda-40fc-af51-e7e506b483b3",
   "metadata": {},
   "outputs": [
    {
     "data": {
      "text/plain": [
       "<All keys matched successfully>"
      ]
     },
     "execution_count": 9,
     "metadata": {},
     "output_type": "execute_result"
    }
   ],
   "source": [
    "# Load best model\n",
    "model.load_state_dict(torch.load('deit_pdmd.pth'))"
   ]
  },
  {
   "cell_type": "code",
   "execution_count": 10,
   "id": "de34d11b-52c7-4287-8506-f50c9aa41665",
   "metadata": {},
   "outputs": [
    {
     "name": "stdout",
     "output_type": "stream",
     "text": [
      "Overall Accuracy: 0.9219\n",
      "Precision: 0.9310\n",
      "Recall: 0.9219\n",
      "F1-score: 0.9221\n"
     ]
    }
   ],
   "source": [
    "# Testing\n",
    "model.eval()\n",
    "y_true = []\n",
    "y_pred = []\n",
    "with torch.no_grad():\n",
    "    for inputs, labels in test_loader:\n",
    "        inputs, labels = inputs.to(device), labels.to(device)\n",
    "        outputs = model(inputs)\n",
    "        _, predicted = torch.max(outputs, 1)\n",
    "        y_true.extend(labels.cpu().numpy())\n",
    "        y_pred.extend(predicted.cpu().numpy())\n",
    "\n",
    "# Calculate metrics\n",
    "accuracy = accuracy_score(y_true, y_pred)\n",
    "precision = precision_score(y_true, y_pred, average='weighted')\n",
    "recall = recall_score(y_true, y_pred, average='weighted')\n",
    "f1 = f1_score(y_true, y_pred, average='weighted')\n",
    "\n",
    "print(f'Overall Accuracy: {accuracy:.4f}')\n",
    "print(f'Precision: {precision:.4f}')\n",
    "print(f'Recall: {recall:.4f}')\n",
    "print(f'F1-score: {f1:.4f}')"
   ]
  },
  {
   "cell_type": "code",
   "execution_count": 11,
   "id": "a776044d",
   "metadata": {},
   "outputs": [
    {
     "name": "stdout",
     "output_type": "stream",
     "text": [
      "\n",
      "Class-wise Metrics:\n",
      "Class: Apple__black_rot\n",
      "Accuracy: 0.9683\n",
      "Precision: 0.9839\n",
      "Recall: 0.9683\n",
      "F1-score: 0.9760\n",
      "\n",
      "Class: Apple__healthy\n",
      "Accuracy: 1.0000\n",
      "Precision: 0.9881\n",
      "Recall: 1.0000\n",
      "F1-score: 0.9940\n",
      "\n",
      "Class: Apple__rust\n",
      "Accuracy: 1.0000\n",
      "Precision: 0.9487\n",
      "Recall: 1.0000\n",
      "F1-score: 0.9737\n",
      "\n",
      "Class: Apple__scab\n",
      "Accuracy: 0.9718\n",
      "Precision: 0.9857\n",
      "Recall: 0.9718\n",
      "F1-score: 0.9787\n",
      "\n",
      "Class: Cassava__bacterial_blight\n",
      "Accuracy: 0.5102\n",
      "Precision: 0.6579\n",
      "Recall: 0.5102\n",
      "F1-score: 0.5747\n",
      "\n",
      "Class: Cassava__brown_streak_disease\n",
      "Accuracy: 0.6316\n",
      "Precision: 0.6545\n",
      "Recall: 0.6316\n",
      "F1-score: 0.6429\n",
      "\n",
      "Class: Cassava__green_mottle\n",
      "Accuracy: 0.5833\n",
      "Precision: 0.7000\n",
      "Recall: 0.5833\n",
      "F1-score: 0.6364\n",
      "\n",
      "Class: Cassava__healthy\n",
      "Accuracy: 0.7826\n",
      "Precision: 0.5047\n",
      "Recall: 0.7826\n",
      "F1-score: 0.6136\n",
      "\n",
      "Class: Cassava__mosaic_disease\n",
      "Accuracy: 0.7174\n",
      "Precision: 0.8049\n",
      "Recall: 0.7174\n",
      "F1-score: 0.7586\n",
      "\n",
      "Class: Cherry__healthy\n",
      "Accuracy: 1.0000\n",
      "Precision: 1.0000\n",
      "Recall: 1.0000\n",
      "F1-score: 1.0000\n",
      "\n",
      "Class: Cherry__powdery_mildew\n",
      "Accuracy: 1.0000\n",
      "Precision: 0.9907\n",
      "Recall: 1.0000\n",
      "F1-score: 0.9953\n",
      "\n",
      "Class: Chili__healthy\n",
      "Accuracy: 0.8000\n",
      "Precision: 0.8889\n",
      "Recall: 0.8000\n",
      "F1-score: 0.8421\n",
      "\n",
      "Class: Chili__leaf curl\n",
      "Accuracy: 0.9000\n",
      "Precision: 0.6923\n",
      "Recall: 0.9000\n",
      "F1-score: 0.7826\n",
      "\n",
      "Class: Chili__leaf spot\n",
      "Accuracy: 0.7000\n",
      "Precision: 0.7778\n",
      "Recall: 0.7000\n",
      "F1-score: 0.7368\n",
      "\n",
      "Class: Chili__whitefly\n",
      "Accuracy: 0.9000\n",
      "Precision: 0.8182\n",
      "Recall: 0.9000\n",
      "F1-score: 0.8571\n",
      "\n",
      "Class: Chili__yellowish\n",
      "Accuracy: 0.6000\n",
      "Precision: 1.0000\n",
      "Recall: 0.6000\n",
      "F1-score: 0.7500\n",
      "\n",
      "Class: Coffee__cercospora_leaf_spot\n",
      "Accuracy: 0.3333\n",
      "Precision: 1.0000\n",
      "Recall: 0.3333\n",
      "F1-score: 0.5000\n",
      "\n",
      "Class: Coffee__healthy\n",
      "Accuracy: 0.9778\n",
      "Precision: 0.8302\n",
      "Recall: 0.9778\n",
      "F1-score: 0.8980\n",
      "\n",
      "Class: Coffee__red_spider_mite\n",
      "Accuracy: 0.2778\n",
      "Precision: 0.3846\n",
      "Recall: 0.2778\n",
      "F1-score: 0.3226\n",
      "\n",
      "Class: Coffee__rust\n",
      "Accuracy: 0.7556\n",
      "Precision: 0.8095\n",
      "Recall: 0.7556\n",
      "F1-score: 0.7816\n",
      "\n",
      "Class: Corn__common_rust\n",
      "Accuracy: 0.9773\n",
      "Precision: 0.9556\n",
      "Recall: 0.9773\n",
      "F1-score: 0.9663\n",
      "\n",
      "Class: Corn__gray_leaf_spot\n",
      "Accuracy: 0.9820\n",
      "Precision: 0.9160\n",
      "Recall: 0.9820\n",
      "F1-score: 0.9478\n",
      "\n",
      "Class: Corn__healthy\n",
      "Accuracy: 1.0000\n",
      "Precision: 0.9070\n",
      "Recall: 1.0000\n",
      "F1-score: 0.9512\n",
      "\n",
      "Class: Corn__northern_leaf_blight\n",
      "Accuracy: 0.8780\n",
      "Precision: 0.9391\n",
      "Recall: 0.8780\n",
      "F1-score: 0.9076\n",
      "\n",
      "Class: Cucumber__diseased\n",
      "Accuracy: 0.9444\n",
      "Precision: 1.0000\n",
      "Recall: 0.9444\n",
      "F1-score: 0.9714\n",
      "\n",
      "Class: Cucumber__healthy\n",
      "Accuracy: 0.9714\n",
      "Precision: 0.9444\n",
      "Recall: 0.9714\n",
      "F1-score: 0.9577\n",
      "\n",
      "Class: Gauva__diseased\n",
      "Accuracy: 1.0000\n",
      "Precision: 0.9375\n",
      "Recall: 1.0000\n",
      "F1-score: 0.9677\n",
      "\n",
      "Class: Gauva__healthy\n",
      "Accuracy: 0.8966\n",
      "Precision: 1.0000\n",
      "Recall: 0.8966\n",
      "F1-score: 0.9455\n",
      "\n",
      "Class: Grape__black_measles\n",
      "Accuracy: 1.0000\n",
      "Precision: 1.0000\n",
      "Recall: 1.0000\n",
      "F1-score: 1.0000\n",
      "\n",
      "Class: Grape__black_rot\n",
      "Accuracy: 1.0000\n",
      "Precision: 0.9974\n",
      "Recall: 1.0000\n",
      "F1-score: 0.9987\n",
      "\n",
      "Class: Grape__healthy\n",
      "Accuracy: 1.0000\n",
      "Precision: 1.0000\n",
      "Recall: 1.0000\n",
      "F1-score: 1.0000\n",
      "\n",
      "Class: Grape__leaf_blight_(isariopsis_leaf_spot)\n",
      "Accuracy: 1.0000\n",
      "Precision: 1.0000\n",
      "Recall: 1.0000\n",
      "F1-score: 1.0000\n",
      "\n",
      "Class: Jamun__diseased\n",
      "Accuracy: 0.8286\n",
      "Precision: 0.9355\n",
      "Recall: 0.8286\n",
      "F1-score: 0.8788\n",
      "\n",
      "Class: Jamun__healthy\n",
      "Accuracy: 1.0000\n",
      "Precision: 0.8788\n",
      "Recall: 1.0000\n",
      "F1-score: 0.9355\n",
      "\n",
      "Class: Lemon__diseased\n",
      "Accuracy: 0.6667\n",
      "Precision: 0.8571\n",
      "Recall: 0.6667\n",
      "F1-score: 0.7500\n",
      "\n",
      "Class: Lemon__healthy\n",
      "Accuracy: 0.9412\n",
      "Precision: 0.8421\n",
      "Recall: 0.9412\n",
      "F1-score: 0.8889\n",
      "\n",
      "Class: Mango__diseased\n",
      "Accuracy: 0.9630\n",
      "Precision: 1.0000\n",
      "Recall: 0.9630\n",
      "F1-score: 0.9811\n",
      "\n",
      "Class: Mango__healthy\n",
      "Accuracy: 1.0000\n",
      "Precision: 1.0000\n",
      "Recall: 1.0000\n",
      "F1-score: 1.0000\n",
      "\n",
      "Class: Peach__bacterial_spot\n",
      "Accuracy: 1.0000\n",
      "Precision: 0.9914\n",
      "Recall: 1.0000\n",
      "F1-score: 0.9957\n",
      "\n",
      "Class: Peach__healthy\n",
      "Accuracy: 1.0000\n",
      "Precision: 1.0000\n",
      "Recall: 1.0000\n",
      "F1-score: 1.0000\n",
      "\n",
      "Class: Pepper_bell__bacterial_spot\n",
      "Accuracy: 1.0000\n",
      "Precision: 1.0000\n",
      "Recall: 1.0000\n",
      "F1-score: 1.0000\n",
      "\n",
      "Class: Pepper_bell__healthy\n",
      "Accuracy: 1.0000\n",
      "Precision: 1.0000\n",
      "Recall: 1.0000\n",
      "F1-score: 1.0000\n",
      "\n",
      "Class: Pomegranate__diseased\n",
      "Accuracy: 0.8571\n",
      "Precision: 1.0000\n",
      "Recall: 0.8571\n",
      "F1-score: 0.9231\n",
      "\n",
      "Class: Pomegranate__healthy\n",
      "Accuracy: 1.0000\n",
      "Precision: 0.8333\n",
      "Recall: 1.0000\n",
      "F1-score: 0.9091\n",
      "\n",
      "Class: Potato__early_blight\n",
      "Accuracy: 1.0000\n",
      "Precision: 0.9735\n",
      "Recall: 1.0000\n",
      "F1-score: 0.9865\n",
      "\n",
      "Class: Potato__healthy\n",
      "Accuracy: 1.0000\n",
      "Precision: 0.9412\n",
      "Recall: 1.0000\n",
      "F1-score: 0.9697\n",
      "\n",
      "Class: Potato__late_blight\n",
      "Accuracy: 0.9909\n",
      "Precision: 0.9909\n",
      "Recall: 0.9909\n",
      "F1-score: 0.9909\n",
      "\n",
      "Class: Rice__brown_spot\n",
      "Accuracy: 0.5455\n",
      "Precision: 0.2812\n",
      "Recall: 0.5455\n",
      "F1-score: 0.3711\n",
      "\n",
      "Class: Rice__healthy\n",
      "Accuracy: 0.7267\n",
      "Precision: 0.7956\n",
      "Recall: 0.7267\n",
      "F1-score: 0.7596\n",
      "\n",
      "Class: Rice__hispa\n",
      "Accuracy: 0.4912\n",
      "Precision: 0.7000\n",
      "Recall: 0.4912\n",
      "F1-score: 0.5773\n",
      "\n",
      "Class: Rice__leaf_blast\n",
      "Accuracy: 0.1919\n",
      "Precision: 0.2879\n",
      "Recall: 0.1919\n",
      "F1-score: 0.2303\n",
      "\n",
      "Class: Rice__neck_blast\n",
      "Accuracy: 1.0000\n",
      "Precision: 0.9901\n",
      "Recall: 1.0000\n",
      "F1-score: 0.9950\n",
      "\n",
      "Class: Soybean__bacterial_blight\n",
      "Accuracy: 1.0000\n",
      "Precision: 1.0000\n",
      "Recall: 1.0000\n",
      "F1-score: 1.0000\n",
      "\n",
      "Class: Soybean__caterpillar\n",
      "Accuracy: 0.9518\n",
      "Precision: 0.6855\n",
      "Recall: 0.9518\n",
      "F1-score: 0.7970\n",
      "\n",
      "Class: Soybean__diabrotica_speciosa\n",
      "Accuracy: 0.8281\n",
      "Precision: 0.8433\n",
      "Recall: 0.8281\n",
      "F1-score: 0.8356\n",
      "\n",
      "Class: Soybean__downy_mildew\n",
      "Accuracy: 0.8333\n",
      "Precision: 0.8333\n",
      "Recall: 0.8333\n",
      "F1-score: 0.8333\n",
      "\n",
      "Class: Soybean__healthy\n",
      "Accuracy: 0.7654\n",
      "Precision: 1.0000\n",
      "Recall: 0.7654\n",
      "F1-score: 0.8671\n",
      "\n",
      "Class: Soybean__mosaic_virus\n",
      "Accuracy: 0.6667\n",
      "Precision: 1.0000\n",
      "Recall: 0.6667\n",
      "F1-score: 0.8000\n",
      "\n",
      "Class: Soybean__powdery_mildew\n",
      "Accuracy: 0.6667\n",
      "Precision: 1.0000\n",
      "Recall: 0.6667\n",
      "F1-score: 0.8000\n",
      "\n",
      "Class: Soybean__rust\n",
      "Accuracy: 0.7143\n",
      "Precision: 1.0000\n",
      "Recall: 0.7143\n",
      "F1-score: 0.8333\n",
      "\n",
      "Class: Soybean__southern_blight\n",
      "Accuracy: 0.8571\n",
      "Precision: 0.5455\n",
      "Recall: 0.8571\n",
      "F1-score: 0.6667\n",
      "\n",
      "Class: Strawberry___leaf_scorch\n",
      "Accuracy: 1.0000\n",
      "Precision: 1.0000\n",
      "Recall: 1.0000\n",
      "F1-score: 1.0000\n",
      "\n",
      "Class: Strawberry__healthy\n",
      "Accuracy: 1.0000\n",
      "Precision: 0.9787\n",
      "Recall: 1.0000\n",
      "F1-score: 0.9892\n",
      "\n",
      "Class: Sugarcane__bacterial_blight\n",
      "Accuracy: 0.5000\n",
      "Precision: 1.0000\n",
      "Recall: 0.5000\n",
      "F1-score: 0.6667\n",
      "\n",
      "Class: Sugarcane__healthy\n",
      "Accuracy: 1.0000\n",
      "Precision: 0.9048\n",
      "Recall: 1.0000\n",
      "F1-score: 0.9500\n",
      "\n",
      "Class: Sugarcane__red_rot\n",
      "Accuracy: 0.8947\n",
      "Precision: 0.7727\n",
      "Recall: 0.8947\n",
      "F1-score: 0.8293\n",
      "\n",
      "Class: Sugarcane__red_stripe\n",
      "Accuracy: 0.8333\n",
      "Precision: 0.4545\n",
      "Recall: 0.8333\n",
      "F1-score: 0.5882\n",
      "\n",
      "Class: Sugarcane__rust\n",
      "Accuracy: 0.1000\n",
      "Precision: 1.0000\n",
      "Recall: 0.1000\n",
      "F1-score: 0.1818\n",
      "\n",
      "Class: Tea__algal_leaf\n",
      "Accuracy: 0.9429\n",
      "Precision: 0.9706\n",
      "Recall: 0.9429\n",
      "F1-score: 0.9565\n",
      "\n",
      "Class: Tea__anthracnose\n",
      "Accuracy: 0.8333\n",
      "Precision: 0.9259\n",
      "Recall: 0.8333\n",
      "F1-score: 0.8772\n",
      "\n",
      "Class: Tea__bird_eye_spot\n",
      "Accuracy: 0.9333\n",
      "Precision: 0.8485\n",
      "Recall: 0.9333\n",
      "F1-score: 0.8889\n",
      "\n",
      "Class: Tea__brown_blight\n",
      "Accuracy: 1.0000\n",
      "Precision: 0.9722\n",
      "Recall: 1.0000\n",
      "F1-score: 0.9859\n",
      "\n",
      "Class: Tea__healthy\n",
      "Accuracy: 1.0000\n",
      "Precision: 1.0000\n",
      "Recall: 1.0000\n",
      "F1-score: 1.0000\n",
      "\n",
      "Class: Tea__red_leaf_spot\n",
      "Accuracy: 1.0000\n",
      "Precision: 0.9565\n",
      "Recall: 1.0000\n",
      "F1-score: 0.9778\n",
      "\n",
      "Class: Tomato__bacterial_spot\n",
      "Accuracy: 0.9907\n",
      "Precision: 0.9953\n",
      "Recall: 0.9907\n",
      "F1-score: 0.9930\n",
      "\n",
      "Class: Tomato__early_blight\n",
      "Accuracy: 0.9804\n",
      "Precision: 0.9901\n",
      "Recall: 0.9804\n",
      "F1-score: 0.9852\n",
      "\n",
      "Class: Tomato__healthy\n",
      "Accuracy: 1.0000\n",
      "Precision: 1.0000\n",
      "Recall: 1.0000\n",
      "F1-score: 1.0000\n",
      "\n",
      "Class: Tomato__late_blight\n",
      "Accuracy: 0.9845\n",
      "Precision: 0.9948\n",
      "Recall: 0.9845\n",
      "F1-score: 0.9896\n",
      "\n",
      "Class: Tomato__leaf_mold\n",
      "Accuracy: 0.9485\n",
      "Precision: 1.0000\n",
      "Recall: 0.9485\n",
      "F1-score: 0.9735\n",
      "\n",
      "Class: Tomato__mosaic_virus\n",
      "Accuracy: 1.0000\n",
      "Precision: 0.9750\n",
      "Recall: 1.0000\n",
      "F1-score: 0.9873\n",
      "\n",
      "Class: Tomato__septoria_leaf_spot\n",
      "Accuracy: 1.0000\n",
      "Precision: 0.9835\n",
      "Recall: 1.0000\n",
      "F1-score: 0.9917\n",
      "\n",
      "Class: Tomato__spider_mites_(two_spotted_spider_mite)\n",
      "Accuracy: 0.9821\n",
      "Precision: 0.9880\n",
      "Recall: 0.9821\n",
      "F1-score: 0.9851\n",
      "\n",
      "Class: Tomato__target_spot\n",
      "Accuracy: 0.9930\n",
      "Precision: 0.9792\n",
      "Recall: 0.9930\n",
      "F1-score: 0.9860\n",
      "\n",
      "Class: Tomato__yellow_leaf_curl_virus\n",
      "Accuracy: 0.9969\n",
      "Precision: 1.0000\n",
      "Recall: 0.9969\n",
      "F1-score: 0.9984\n",
      "\n",
      "Class: Wheat__brown_rust\n",
      "Accuracy: 0.8571\n",
      "Precision: 1.0000\n",
      "Recall: 0.8571\n",
      "F1-score: 0.9231\n",
      "\n",
      "Class: Wheat__healthy\n",
      "Accuracy: 1.0000\n",
      "Precision: 0.9318\n",
      "Recall: 1.0000\n",
      "F1-score: 0.9647\n",
      "\n",
      "Class: Wheat__septoria\n",
      "Accuracy: 0.7273\n",
      "Precision: 1.0000\n",
      "Recall: 0.7273\n",
      "F1-score: 0.8421\n",
      "\n",
      "Class: Wheat__yellow_rust\n",
      "Accuracy: 0.9825\n",
      "Precision: 0.9825\n",
      "Recall: 0.9825\n",
      "F1-score: 0.9825\n",
      "\n"
     ]
    }
   ],
   "source": [
    "from sklearn.metrics import confusion_matrix\n",
    "\n",
    "# Calculate class-wise metrics\n",
    "class_names = test_dataset.classes\n",
    "conf_matrix = confusion_matrix(y_true, y_pred)\n",
    "class_acc = conf_matrix.diagonal() / conf_matrix.sum(axis=1)\n",
    "class_prec = precision_score(y_true, y_pred, average=None)\n",
    "class_recall = recall_score(y_true, y_pred, average=None)\n",
    "class_f1 = f1_score(y_true, y_pred, average=None)\n",
    "\n",
    "# Display class-wise metrics\n",
    "print('\\nClass-wise Metrics:')\n",
    "for i, class_name in enumerate(class_names):\n",
    "    print(f'Class: {class_name}')\n",
    "    print(f'Accuracy: {class_acc[i]:.4f}')\n",
    "    print(f'Precision: {class_prec[i]:.4f}')\n",
    "    print(f'Recall: {class_recall[i]:.4f}')\n",
    "    print(f'F1-score: {class_f1[i]:.4f}')\n",
    "    print()"
   ]
  },
  {
   "cell_type": "code",
   "execution_count": 12,
   "id": "9087a12f",
   "metadata": {},
   "outputs": [
    {
     "data": {
      "image/png": "[encoded data removed]",
      "text/plain": [
       "<Figure size 800x600 with 2 Axes>"
      ]
     },
     "metadata": {},
     "output_type": "display_data"
    }
   ],
   "source": [
    "import numpy as np\n",
    "import itertools\n",
    "\n",
    "# Display confusion matrix\n",
    "plt.figure(figsize=(8, 6))\n",
    "plt.imshow(conf_matrix, interpolation='nearest', cmap=plt.cm.Blues)\n",
    "plt.title('Confusion Matrix')\n",
    "plt.colorbar()\n",
    "tick_marks = np.arange(len(class_names))\n",
    "plt.xticks(tick_marks, class_names, rotation=45)\n",
    "plt.yticks(tick_marks, class_names)\n",
    "fmt = 'd'\n",
    "thresh = conf_matrix.max() / 2.\n",
    "for i, j in itertools.product(range(conf_matrix.shape[0]), range(conf_matrix.shape[1])):\n",
    "    plt.text(j, i, format(conf_matrix[i, j], fmt), horizontalalignment=\"center\", color=\"white\" if conf_matrix[i, j] > thresh else \"black\")\n",
    "plt.tight_layout()\n",
    "plt.ylabel('True label')\n",
    "plt.xlabel('Predicted label')\n",
    "plt.show()"
   ]
  },
  {
   "cell_type": "code",
   "execution_count": null,
   "id": "a8cd46ea",
   "metadata": {},
   "outputs": [],
   "source": []
  }
 ],
 "metadata": {
  "kernelspec": {
   "display_name": "Python 3 (ipykernel)",
   "language": "python",
   "name": "python3"
  },
  "language_info": {
   "codemirror_mode": {
    "name": "ipython",
    "version": 3
   },
   "file_extension": ".py",
   "mimetype": "text/x-python",
   "name": "python",
   "nbconvert_exporter": "python",
   "pygments_lexer": "ipython3",
   "version": "3.11.5"
  }
 },
 "nbformat": 4,
 "nbformat_minor": 5
}
