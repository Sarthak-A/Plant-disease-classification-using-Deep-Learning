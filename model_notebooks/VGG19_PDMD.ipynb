{
 "cells": [
  {
   "cell_type": "code",
   "execution_count": 1,
   "id": "57fc12f8-93bc-4a75-a49d-a6209ffaaac7",
   "metadata": {},
   "outputs": [],
   "source": [
    "import torch\n",
    "import torchvision\n",
    "import torchvision.transforms as transforms\n",
    "import torch.nn as nn\n",
    "import torch.optim as optim\n",
    "from torch.utils.data import DataLoader\n",
    "from torchvision.datasets import ImageFolder\n",
    "from torchvision import models\n",
    "from sklearn.metrics import accuracy_score, precision_score, recall_score, f1_score\n",
    "import matplotlib.pyplot as plt\n",
    "from tqdm import tqdm"
   ]
  },
  {
   "cell_type": "code",
   "execution_count": 2,
   "id": "e6d21642-3486-46c2-84ae-8b75efdf902e",
   "metadata": {},
   "outputs": [],
   "source": [
    "# Define transforms for the dataset\n",
    "transform = transforms.Compose([\n",
    "    transforms.Resize((256, 256)),\n",
    "    transforms.ToTensor(),\n",
    "])"
   ]
  },
  {
   "cell_type": "code",
   "execution_count": 3,
   "id": "d8bb57c6-cd0f-4de5-bbcd-9587d4cbe971",
   "metadata": {},
   "outputs": [],
   "source": [
    "# Load dataset\n",
    "train_dataset = ImageFolder(root=r\"D:\\PlantDIsease\\PDMD - RFS70\\train\", transform=transform)\n",
    "val_dataset = ImageFolder(root=r\"D:\\PlantDIsease\\PDMD - RFS70\\val\", transform=transform)\n",
    "test_dataset = ImageFolder(root=r\"D:\\PlantDIsease\\PDMD - RFS70\\test\", transform=transform)"
   ]
  },
  {
   "cell_type": "code",
   "execution_count": 4,
   "id": "622fb560-ba4e-45cb-9231-6f1150639c2c",
   "metadata": {},
   "outputs": [],
   "source": [
    "# Define dataloaders\n",
    "train_loader = DataLoader(train_dataset, batch_size=32, shuffle=True)\n",
    "val_loader = DataLoader(val_dataset, batch_size=32, shuffle=False)\n",
    "test_loader = DataLoader(test_dataset, batch_size=32, shuffle=False)"
   ]
  },
  {
   "cell_type": "code",
   "execution_count": 5,
   "id": "f3024fac-c721-410a-a672-222ad360c8c0",
   "metadata": {},
   "outputs": [
    {
     "name": "stderr",
     "output_type": "stream",
     "text": [
      "C:\\Users\\Welcome\\anaconda3\\Lib\\site-packages\\torchvision\\models\\_utils.py:208: UserWarning: The parameter 'pretrained' is deprecated since 0.13 and may be removed in the future, please use 'weights' instead.\n",
      "  warnings.warn(\n",
      "C:\\Users\\Welcome\\anaconda3\\Lib\\site-packages\\torchvision\\models\\_utils.py:223: UserWarning: Arguments other than a weight enum or `None` for 'weights' are deprecated since 0.13 and may be removed in the future. The current behavior is equivalent to passing `weights=VGG19_Weights.IMAGENET1K_V1`. You can also use `weights=VGG19_Weights.DEFAULT` to get the most up-to-date weights.\n",
      "  warnings.warn(msg)\n",
      "Downloading: \"https://download.pytorch.org/models/vgg19-dcbb9e9d.pth\" to C:\\Users\\Welcome/.cache\\torch\\hub\\checkpoints\\vgg19-dcbb9e9d.pth\n",
      "100%|███████████████████████████████████████████████████████████████████████████████| 548M/548M [00:49<00:00, 11.6MB/s]\n"
     ]
    }
   ],
   "source": [
    "# from torchvision.models import efficientnet_b0, EfficientNet_B0_Weights\n",
    "# from torchvision.models._api import WeightsEnum\n",
    "# from torch.hub import load_state_dict_from_url\n",
    "\n",
    "# def get_state_dict(self, *args, **kwargs):\n",
    "#     kwargs.pop(\"check_hash\")\n",
    "#     return load_state_dict_from_url(self.url, *args, **kwargs)\n",
    "# WeightsEnum.get_state_dict = get_state_dict\n",
    "\n",
    "# efficientnet_b0(weights=EfficientNet_B0_Weights.IMAGENET1K_V1)\n",
    "# efficientnet_b0(weights=\"DEFAULT\")\n",
    "\n",
    "# Define EfficientNet model\n",
    "model = models.vgg19(pretrained=True)"
   ]
  },
  {
   "cell_type": "code",
   "execution_count": 6,
   "id": "030d2fdf-dfb9-4701-9303-908c7749da97",
   "metadata": {},
   "outputs": [
    {
     "name": "stdout",
     "output_type": "stream",
     "text": [
      "VGG(\n",
      "  (features): Sequential(\n",
      "    (0): Conv2d(3, 64, kernel_size=(3, 3), stride=(1, 1), padding=(1, 1))\n",
      "    (1): ReLU(inplace=True)\n",
      "    (2): Conv2d(64, 64, kernel_size=(3, 3), stride=(1, 1), padding=(1, 1))\n",
      "    (3): ReLU(inplace=True)\n",
      "    (4): MaxPool2d(kernel_size=2, stride=2, padding=0, dilation=1, ceil_mode=False)\n",
      "    (5): Conv2d(64, 128, kernel_size=(3, 3), stride=(1, 1), padding=(1, 1))\n",
      "    (6): ReLU(inplace=True)\n",
      "    (7): Conv2d(128, 128, kernel_size=(3, 3), stride=(1, 1), padding=(1, 1))\n",
      "    (8): ReLU(inplace=True)\n",
      "    (9): MaxPool2d(kernel_size=2, stride=2, padding=0, dilation=1, ceil_mode=False)\n",
      "    (10): Conv2d(128, 256, kernel_size=(3, 3), stride=(1, 1), padding=(1, 1))\n",
      "    (11): ReLU(inplace=True)\n",
      "    (12): Conv2d(256, 256, kernel_size=(3, 3), stride=(1, 1), padding=(1, 1))\n",
      "    (13): ReLU(inplace=True)\n",
      "    (14): Conv2d(256, 256, kernel_size=(3, 3), stride=(1, 1), padding=(1, 1))\n",
      "    (15): ReLU(inplace=True)\n",
      "    (16): Conv2d(256, 256, kernel_size=(3, 3), stride=(1, 1), padding=(1, 1))\n",
      "    (17): ReLU(inplace=True)\n",
      "    (18): MaxPool2d(kernel_size=2, stride=2, padding=0, dilation=1, ceil_mode=False)\n",
      "    (19): Conv2d(256, 512, kernel_size=(3, 3), stride=(1, 1), padding=(1, 1))\n",
      "    (20): ReLU(inplace=True)\n",
      "    (21): Conv2d(512, 512, kernel_size=(3, 3), stride=(1, 1), padding=(1, 1))\n",
      "    (22): ReLU(inplace=True)\n",
      "    (23): Conv2d(512, 512, kernel_size=(3, 3), stride=(1, 1), padding=(1, 1))\n",
      "    (24): ReLU(inplace=True)\n",
      "    (25): Conv2d(512, 512, kernel_size=(3, 3), stride=(1, 1), padding=(1, 1))\n",
      "    (26): ReLU(inplace=True)\n",
      "    (27): MaxPool2d(kernel_size=2, stride=2, padding=0, dilation=1, ceil_mode=False)\n",
      "    (28): Conv2d(512, 512, kernel_size=(3, 3), stride=(1, 1), padding=(1, 1))\n",
      "    (29): ReLU(inplace=True)\n",
      "    (30): Conv2d(512, 512, kernel_size=(3, 3), stride=(1, 1), padding=(1, 1))\n",
      "    (31): ReLU(inplace=True)\n",
      "    (32): Conv2d(512, 512, kernel_size=(3, 3), stride=(1, 1), padding=(1, 1))\n",
      "    (33): ReLU(inplace=True)\n",
      "    (34): Conv2d(512, 512, kernel_size=(3, 3), stride=(1, 1), padding=(1, 1))\n",
      "    (35): ReLU(inplace=True)\n",
      "    (36): MaxPool2d(kernel_size=2, stride=2, padding=0, dilation=1, ceil_mode=False)\n",
      "  )\n",
      "  (avgpool): AdaptiveAvgPool2d(output_size=(7, 7))\n",
      "  (classifier): Sequential(\n",
      "    (0): Linear(in_features=25088, out_features=4096, bias=True)\n",
      "    (1): ReLU(inplace=True)\n",
      "    (2): Dropout(p=0.5, inplace=False)\n",
      "    (3): Linear(in_features=4096, out_features=4096, bias=True)\n",
      "    (4): ReLU(inplace=True)\n",
      "    (5): Dropout(p=0.5, inplace=False)\n",
      "    (6): Linear(in_features=4096, out_features=1000, bias=True)\n",
      "  )\n",
      ")\n"
     ]
    }
   ],
   "source": [
    "# Display model summary\n",
    "print(model)"
   ]
  },
  {
   "cell_type": "code",
   "execution_count": 7,
   "id": "c1ff6b23-8a19-42e3-8ddc-86c737b57e1b",
   "metadata": {},
   "outputs": [
    {
     "data": {
      "text/plain": [
       "VGG(\n",
       "  (features): Sequential(\n",
       "    (0): Conv2d(3, 64, kernel_size=(3, 3), stride=(1, 1), padding=(1, 1))\n",
       "    (1): ReLU(inplace=True)\n",
       "    (2): Conv2d(64, 64, kernel_size=(3, 3), stride=(1, 1), padding=(1, 1))\n",
       "    (3): ReLU(inplace=True)\n",
       "    (4): MaxPool2d(kernel_size=2, stride=2, padding=0, dilation=1, ceil_mode=False)\n",
       "    (5): Conv2d(64, 128, kernel_size=(3, 3), stride=(1, 1), padding=(1, 1))\n",
       "    (6): ReLU(inplace=True)\n",
       "    (7): Conv2d(128, 128, kernel_size=(3, 3), stride=(1, 1), padding=(1, 1))\n",
       "    (8): ReLU(inplace=True)\n",
       "    (9): MaxPool2d(kernel_size=2, stride=2, padding=0, dilation=1, ceil_mode=False)\n",
       "    (10): Conv2d(128, 256, kernel_size=(3, 3), stride=(1, 1), padding=(1, 1))\n",
       "    (11): ReLU(inplace=True)\n",
       "    (12): Conv2d(256, 256, kernel_size=(3, 3), stride=(1, 1), padding=(1, 1))\n",
       "    (13): ReLU(inplace=True)\n",
       "    (14): Conv2d(256, 256, kernel_size=(3, 3), stride=(1, 1), padding=(1, 1))\n",
       "    (15): ReLU(inplace=True)\n",
       "    (16): Conv2d(256, 256, kernel_size=(3, 3), stride=(1, 1), padding=(1, 1))\n",
       "    (17): ReLU(inplace=True)\n",
       "    (18): MaxPool2d(kernel_size=2, stride=2, padding=0, dilation=1, ceil_mode=False)\n",
       "    (19): Conv2d(256, 512, kernel_size=(3, 3), stride=(1, 1), padding=(1, 1))\n",
       "    (20): ReLU(inplace=True)\n",
       "    (21): Conv2d(512, 512, kernel_size=(3, 3), stride=(1, 1), padding=(1, 1))\n",
       "    (22): ReLU(inplace=True)\n",
       "    (23): Conv2d(512, 512, kernel_size=(3, 3), stride=(1, 1), padding=(1, 1))\n",
       "    (24): ReLU(inplace=True)\n",
       "    (25): Conv2d(512, 512, kernel_size=(3, 3), stride=(1, 1), padding=(1, 1))\n",
       "    (26): ReLU(inplace=True)\n",
       "    (27): MaxPool2d(kernel_size=2, stride=2, padding=0, dilation=1, ceil_mode=False)\n",
       "    (28): Conv2d(512, 512, kernel_size=(3, 3), stride=(1, 1), padding=(1, 1))\n",
       "    (29): ReLU(inplace=True)\n",
       "    (30): Conv2d(512, 512, kernel_size=(3, 3), stride=(1, 1), padding=(1, 1))\n",
       "    (31): ReLU(inplace=True)\n",
       "    (32): Conv2d(512, 512, kernel_size=(3, 3), stride=(1, 1), padding=(1, 1))\n",
       "    (33): ReLU(inplace=True)\n",
       "    (34): Conv2d(512, 512, kernel_size=(3, 3), stride=(1, 1), padding=(1, 1))\n",
       "    (35): ReLU(inplace=True)\n",
       "    (36): MaxPool2d(kernel_size=2, stride=2, padding=0, dilation=1, ceil_mode=False)\n",
       "  )\n",
       "  (avgpool): AdaptiveAvgPool2d(output_size=(7, 7))\n",
       "  (classifier): Sequential(\n",
       "    (0): Linear(in_features=25088, out_features=4096, bias=True)\n",
       "    (1): ReLU(inplace=True)\n",
       "    (2): Dropout(p=0.5, inplace=False)\n",
       "    (3): Linear(in_features=4096, out_features=4096, bias=True)\n",
       "    (4): ReLU(inplace=True)\n",
       "    (5): Dropout(p=0.5, inplace=False)\n",
       "    (6): Linear(in_features=4096, out_features=1000, bias=True)\n",
       "  )\n",
       ")"
      ]
     },
     "execution_count": 7,
     "metadata": {},
     "output_type": "execute_result"
    }
   ],
   "source": [
    "# Transfer model to GPU if available\n",
    "device = torch.device(\"cuda\" if torch.cuda.is_available() else \"cpu\")\n",
    "model.to(device)"
   ]
  },
  {
   "cell_type": "code",
   "execution_count": 8,
   "id": "b2675268-9b3e-47ba-a5f1-6c0dc0d5e181",
   "metadata": {},
   "outputs": [],
   "source": [
    "# Define loss function with label smoothing\n",
    "class SmoothCrossEntropyLoss(nn.Module):\n",
    "    def __init__(self, smoothing=0.1):\n",
    "        super(SmoothCrossEntropyLoss, self).__init__()\n",
    "        self.smoothing = smoothing\n",
    "\n",
    "    def forward(self, input, target):\n",
    "        log_prob = torch.nn.functional.log_softmax(input, dim=-1)\n",
    "        weight = input.new_ones(input.size()) * \\\n",
    "            self.smoothing / (input.size(-1) - 1.)\n",
    "        weight.scatter_(-1, target.unsqueeze(-1), (1. - self.smoothing))\n",
    "        loss = (-weight * log_prob).sum(dim=-1).mean()\n",
    "        return loss"
   ]
  },
  {
   "cell_type": "code",
   "execution_count": 9,
   "id": "b7f587b4-02f6-4ef5-a3b5-c7b211448ed1",
   "metadata": {},
   "outputs": [],
   "source": [
    "criterion = SmoothCrossEntropyLoss()\n",
    "optimizer = optim.Adam(model.parameters(), lr=0.0005)"
   ]
  },
  {
   "cell_type": "code",
   "execution_count": 10,
   "id": "6fae443a-d599-4733-88bd-bd043c83abe8",
   "metadata": {},
   "outputs": [],
   "source": [
    "# Training loop\n",
    "train_loss_list = []\n",
    "train_acc_list = []\n",
    "val_loss_list = []\n",
    "val_acc_list = []"
   ]
  },
  {
   "cell_type": "code",
   "execution_count": 11,
   "id": "cc1b20d8-d124-4db8-8182-98021aff4e86",
   "metadata": {},
   "outputs": [
    {
     "name": "stderr",
     "output_type": "stream",
     "text": [
      "Epoch 1/45: 100%|█████████████| 1729/1729 [52:14<00:00,  1.81s/it, Train Loss=2.57, Train Acc=0.532]\n"
     ]
    },
    {
     "name": "stdout",
     "output_type": "stream",
     "text": [
      "Epoch [1/45], Train Loss: 2.5726, Train Acc: 0.5323, Val Loss: 2.2351, Val Acc: 0.6854\n"
     ]
    },
    {
     "name": "stderr",
     "output_type": "stream",
     "text": [
      "Epoch 2/45: 100%|█████████████| 1729/1729 [36:12<00:00,  1.26s/it, Train Loss=1.79, Train Acc=0.754]\n"
     ]
    },
    {
     "name": "stdout",
     "output_type": "stream",
     "text": [
      "Epoch [2/45], Train Loss: 1.7893, Train Acc: 0.7542, Val Loss: 2.1079, Val Acc: 0.7240\n"
     ]
    },
    {
     "name": "stderr",
     "output_type": "stream",
     "text": [
      "Epoch 3/45: 100%|█████████████| 1729/1729 [36:09<00:00,  1.25s/it, Train Loss=1.63, Train Acc=0.807]\n"
     ]
    },
    {
     "name": "stdout",
     "output_type": "stream",
     "text": [
      "Epoch [3/45], Train Loss: 1.6256, Train Acc: 0.8067, Val Loss: 1.9683, Val Acc: 0.7518\n"
     ]
    },
    {
     "name": "stderr",
     "output_type": "stream",
     "text": [
      "Epoch 4/45: 100%|█████████████| 1729/1729 [37:47<00:00,  1.31s/it, Train Loss=1.53, Train Acc=0.838]\n"
     ]
    },
    {
     "name": "stdout",
     "output_type": "stream",
     "text": [
      "Epoch [4/45], Train Loss: 1.5278, Train Acc: 0.8377, Val Loss: 2.0586, Val Acc: 0.7795\n"
     ]
    },
    {
     "name": "stderr",
     "output_type": "stream",
     "text": [
      "Epoch 5/45: 100%|█████████████| 1729/1729 [36:36<00:00,  1.27s/it, Train Loss=1.46, Train Acc=0.859]\n"
     ]
    },
    {
     "name": "stdout",
     "output_type": "stream",
     "text": [
      "Epoch [5/45], Train Loss: 1.4599, Train Acc: 0.8595, Val Loss: 1.9804, Val Acc: 0.7992\n"
     ]
    },
    {
     "name": "stderr",
     "output_type": "stream",
     "text": [
      "Epoch 6/45: 100%|█████████████| 1729/1729 [36:06<00:00,  1.25s/it, Train Loss=1.42, Train Acc=0.873]\n"
     ]
    },
    {
     "name": "stdout",
     "output_type": "stream",
     "text": [
      "Epoch [6/45], Train Loss: 1.4187, Train Acc: 0.8727, Val Loss: 1.9302, Val Acc: 0.7962\n"
     ]
    },
    {
     "name": "stderr",
     "output_type": "stream",
     "text": [
      "Epoch 7/45: 100%|█████████████| 1729/1729 [36:09<00:00,  1.26s/it, Train Loss=1.38, Train Acc=0.884]\n"
     ]
    },
    {
     "name": "stdout",
     "output_type": "stream",
     "text": [
      "Epoch [7/45], Train Loss: 1.3831, Train Acc: 0.8840, Val Loss: 1.9975, Val Acc: 0.7808\n"
     ]
    },
    {
     "name": "stderr",
     "output_type": "stream",
     "text": [
      "Epoch 8/45: 100%|█████████████| 1729/1729 [36:18<00:00,  1.26s/it, Train Loss=1.35, Train Acc=0.893]\n"
     ]
    },
    {
     "name": "stdout",
     "output_type": "stream",
     "text": [
      "Epoch [8/45], Train Loss: 1.3544, Train Acc: 0.8934, Val Loss: 1.9133, Val Acc: 0.8105\n"
     ]
    },
    {
     "name": "stderr",
     "output_type": "stream",
     "text": [
      "Epoch 9/45: 100%|█████████████| 1729/1729 [36:02<00:00,  1.25s/it, Train Loss=1.33, Train Acc=0.903]\n"
     ]
    },
    {
     "name": "stdout",
     "output_type": "stream",
     "text": [
      "Epoch [9/45], Train Loss: 1.3302, Train Acc: 0.9029, Val Loss: 1.9235, Val Acc: 0.8013\n"
     ]
    },
    {
     "name": "stderr",
     "output_type": "stream",
     "text": [
      "Epoch 10/45: 100%|█████████████| 1729/1729 [36:06<00:00,  1.25s/it, Train Loss=1.31, Train Acc=0.91]\n"
     ]
    },
    {
     "name": "stdout",
     "output_type": "stream",
     "text": [
      "Epoch [10/45], Train Loss: 1.3082, Train Acc: 0.9098, Val Loss: 1.8910, Val Acc: 0.8127\n"
     ]
    },
    {
     "name": "stderr",
     "output_type": "stream",
     "text": [
      "Epoch 11/45: 100%|████████████| 1729/1729 [36:11<00:00,  1.26s/it, Train Loss=1.29, Train Acc=0.914]\n"
     ]
    },
    {
     "name": "stdout",
     "output_type": "stream",
     "text": [
      "Epoch [11/45], Train Loss: 1.2927, Train Acc: 0.9143, Val Loss: 1.9007, Val Acc: 0.8055\n"
     ]
    },
    {
     "name": "stderr",
     "output_type": "stream",
     "text": [
      "Epoch 12/45: 100%|████████████| 1729/1729 [36:09<00:00,  1.25s/it, Train Loss=1.27, Train Acc=0.922]\n"
     ]
    },
    {
     "name": "stdout",
     "output_type": "stream",
     "text": [
      "Epoch [12/45], Train Loss: 1.2725, Train Acc: 0.9220, Val Loss: 1.9379, Val Acc: 0.8175\n"
     ]
    },
    {
     "name": "stderr",
     "output_type": "stream",
     "text": [
      "Epoch 13/45: 100%|████████████| 1729/1729 [36:05<00:00,  1.25s/it, Train Loss=1.27, Train Acc=0.924]\n"
     ]
    },
    {
     "name": "stdout",
     "output_type": "stream",
     "text": [
      "Epoch [13/45], Train Loss: 1.2664, Train Acc: 0.9243, Val Loss: 1.9188, Val Acc: 0.8073\n"
     ]
    },
    {
     "name": "stderr",
     "output_type": "stream",
     "text": [
      "Epoch 14/45: 100%|████████████| 1729/1729 [36:07<00:00,  1.25s/it, Train Loss=1.25, Train Acc=0.931]\n"
     ]
    },
    {
     "name": "stdout",
     "output_type": "stream",
     "text": [
      "Epoch [14/45], Train Loss: 1.2478, Train Acc: 0.9310, Val Loss: 1.9198, Val Acc: 0.7995\n"
     ]
    },
    {
     "name": "stderr",
     "output_type": "stream",
     "text": [
      "Epoch 15/45: 100%|████████████| 1729/1729 [36:00<00:00,  1.25s/it, Train Loss=1.25, Train Acc=0.932]\n"
     ]
    },
    {
     "name": "stdout",
     "output_type": "stream",
     "text": [
      "Epoch [15/45], Train Loss: 1.2468, Train Acc: 0.9317, Val Loss: 1.8907, Val Acc: 0.8121\n"
     ]
    },
    {
     "name": "stderr",
     "output_type": "stream",
     "text": [
      "Epoch 16/45: 100%|████████████| 1729/1729 [35:59<00:00,  1.25s/it, Train Loss=1.23, Train Acc=0.936]\n"
     ]
    },
    {
     "name": "stdout",
     "output_type": "stream",
     "text": [
      "Epoch [16/45], Train Loss: 1.2304, Train Acc: 0.9365, Val Loss: 1.9102, Val Acc: 0.8080\n"
     ]
    },
    {
     "name": "stderr",
     "output_type": "stream",
     "text": [
      "Epoch 17/45: 100%|█████████████| 1729/1729 [36:01<00:00,  1.25s/it, Train Loss=1.22, Train Acc=0.94]\n"
     ]
    },
    {
     "name": "stdout",
     "output_type": "stream",
     "text": [
      "Epoch [17/45], Train Loss: 1.2233, Train Acc: 0.9402, Val Loss: 1.8922, Val Acc: 0.8132\n"
     ]
    },
    {
     "name": "stderr",
     "output_type": "stream",
     "text": [
      "Epoch 18/45: 100%|████████████| 1729/1729 [35:53<00:00,  1.25s/it, Train Loss=1.21, Train Acc=0.943]\n"
     ]
    },
    {
     "name": "stdout",
     "output_type": "stream",
     "text": [
      "Epoch [18/45], Train Loss: 1.2145, Train Acc: 0.9432, Val Loss: 1.9193, Val Acc: 0.8120\n"
     ]
    },
    {
     "name": "stderr",
     "output_type": "stream",
     "text": [
      "Epoch 19/45: 100%|████████████| 1729/1729 [38:11<00:00,  1.33s/it, Train Loss=1.21, Train Acc=0.945]\n"
     ]
    },
    {
     "name": "stdout",
     "output_type": "stream",
     "text": [
      "Epoch [19/45], Train Loss: 1.2118, Train Acc: 0.9452, Val Loss: 1.8806, Val Acc: 0.8206\n"
     ]
    },
    {
     "name": "stderr",
     "output_type": "stream",
     "text": [
      "Epoch 20/45: 100%|████████████| 1729/1729 [38:24<00:00,  1.33s/it, Train Loss=1.19, Train Acc=0.951]\n"
     ]
    },
    {
     "name": "stdout",
     "output_type": "stream",
     "text": [
      "Epoch [20/45], Train Loss: 1.1935, Train Acc: 0.9506, Val Loss: 1.8843, Val Acc: 0.8184\n"
     ]
    },
    {
     "name": "stderr",
     "output_type": "stream",
     "text": [
      "Epoch 21/45: 100%|████████████| 1729/1729 [36:23<00:00,  1.26s/it, Train Loss=1.19, Train Acc=0.951]\n"
     ]
    },
    {
     "name": "stdout",
     "output_type": "stream",
     "text": [
      "Epoch [21/45], Train Loss: 1.1934, Train Acc: 0.9512, Val Loss: 1.9660, Val Acc: 0.8005\n"
     ]
    },
    {
     "name": "stderr",
     "output_type": "stream",
     "text": [
      "Epoch 22/45: 100%|████████████| 1729/1729 [36:19<00:00,  1.26s/it, Train Loss=1.19, Train Acc=0.953]\n"
     ]
    },
    {
     "name": "stdout",
     "output_type": "stream",
     "text": [
      "Epoch [22/45], Train Loss: 1.1911, Train Acc: 0.9526, Val Loss: 1.9410, Val Acc: 0.8133\n"
     ]
    },
    {
     "name": "stderr",
     "output_type": "stream",
     "text": [
      "Epoch 23/45: 100%|████████████| 1729/1729 [36:23<00:00,  1.26s/it, Train Loss=1.19, Train Acc=0.952]\n"
     ]
    },
    {
     "name": "stdout",
     "output_type": "stream",
     "text": [
      "Epoch [23/45], Train Loss: 1.1900, Train Acc: 0.9523, Val Loss: 1.9338, Val Acc: 0.8033\n"
     ]
    },
    {
     "name": "stderr",
     "output_type": "stream",
     "text": [
      "Epoch 24/45: 100%|████████████| 1729/1729 [36:39<00:00,  1.27s/it, Train Loss=1.18, Train Acc=0.956]\n"
     ]
    },
    {
     "name": "stdout",
     "output_type": "stream",
     "text": [
      "Epoch [24/45], Train Loss: 1.1806, Train Acc: 0.9563, Val Loss: 1.9066, Val Acc: 0.8140\n"
     ]
    },
    {
     "name": "stderr",
     "output_type": "stream",
     "text": [
      "Epoch 25/45: 100%|████████████| 1729/1729 [36:32<00:00,  1.27s/it, Train Loss=1.18, Train Acc=0.957]\n"
     ]
    },
    {
     "name": "stdout",
     "output_type": "stream",
     "text": [
      "Epoch [25/45], Train Loss: 1.1758, Train Acc: 0.9572, Val Loss: 1.8859, Val Acc: 0.8199\n"
     ]
    },
    {
     "name": "stderr",
     "output_type": "stream",
     "text": [
      "Epoch 26/45: 100%|████████████| 1729/1729 [36:23<00:00,  1.26s/it, Train Loss=1.18, Train Acc=0.956]\n"
     ]
    },
    {
     "name": "stdout",
     "output_type": "stream",
     "text": [
      "Epoch [26/45], Train Loss: 1.1784, Train Acc: 0.9563, Val Loss: 1.8937, Val Acc: 0.8184\n"
     ]
    },
    {
     "name": "stderr",
     "output_type": "stream",
     "text": [
      "Epoch 27/45: 100%|████████████| 1729/1729 [36:21<00:00,  1.26s/it, Train Loss=1.17, Train Acc=0.959]\n"
     ]
    },
    {
     "name": "stdout",
     "output_type": "stream",
     "text": [
      "Epoch [27/45], Train Loss: 1.1687, Train Acc: 0.9593, Val Loss: 1.9049, Val Acc: 0.8056\n"
     ]
    },
    {
     "name": "stderr",
     "output_type": "stream",
     "text": [
      "Epoch 28/45: 100%|█████████████| 1729/1729 [36:18<00:00,  1.26s/it, Train Loss=1.17, Train Acc=0.96]\n"
     ]
    },
    {
     "name": "stdout",
     "output_type": "stream",
     "text": [
      "Epoch [28/45], Train Loss: 1.1662, Train Acc: 0.9604, Val Loss: 1.9010, Val Acc: 0.8160\n"
     ]
    },
    {
     "name": "stderr",
     "output_type": "stream",
     "text": [
      "Epoch 29/45: 100%|████████████| 1729/1729 [36:24<00:00,  1.26s/it, Train Loss=1.19, Train Acc=0.954]\n"
     ]
    },
    {
     "name": "stdout",
     "output_type": "stream",
     "text": [
      "Epoch [29/45], Train Loss: 1.1942, Train Acc: 0.9537, Val Loss: 1.9237, Val Acc: 0.8052\n"
     ]
    },
    {
     "name": "stderr",
     "output_type": "stream",
     "text": [
      "Epoch 30/45: 100%|████████████| 1729/1729 [36:24<00:00,  1.26s/it, Train Loss=1.16, Train Acc=0.962]\n"
     ]
    },
    {
     "name": "stdout",
     "output_type": "stream",
     "text": [
      "Epoch [30/45], Train Loss: 1.1643, Train Acc: 0.9615, Val Loss: 1.9398, Val Acc: 0.8114\n"
     ]
    },
    {
     "name": "stderr",
     "output_type": "stream",
     "text": [
      "Epoch 31/45: 100%|█████████████| 1729/1729 [36:23<00:00,  1.26s/it, Train Loss=1.17, Train Acc=0.96]\n"
     ]
    },
    {
     "name": "stdout",
     "output_type": "stream",
     "text": [
      "Epoch [31/45], Train Loss: 1.1669, Train Acc: 0.9601, Val Loss: 1.9561, Val Acc: 0.8049\n"
     ]
    },
    {
     "name": "stderr",
     "output_type": "stream",
     "text": [
      "Epoch 32/45: 100%|█████████████| 1729/1729 [39:03<00:00,  1.36s/it, Train Loss=1.17, Train Acc=0.96]\n"
     ]
    },
    {
     "name": "stdout",
     "output_type": "stream",
     "text": [
      "Epoch [32/45], Train Loss: 1.1665, Train Acc: 0.9602, Val Loss: 1.8740, Val Acc: 0.8154\n"
     ]
    },
    {
     "name": "stderr",
     "output_type": "stream",
     "text": [
      "Epoch 33/45: 100%|████████████| 1729/1729 [37:38<00:00,  1.31s/it, Train Loss=1.16, Train Acc=0.962]\n"
     ]
    },
    {
     "name": "stdout",
     "output_type": "stream",
     "text": [
      "Epoch [33/45], Train Loss: 1.1606, Train Acc: 0.9623, Val Loss: 1.8880, Val Acc: 0.8235\n"
     ]
    },
    {
     "name": "stderr",
     "output_type": "stream",
     "text": [
      "Epoch 34/45: 100%|████████████| 1729/1729 [38:03<00:00,  1.32s/it, Train Loss=1.15, Train Acc=0.966]\n"
     ]
    },
    {
     "name": "stdout",
     "output_type": "stream",
     "text": [
      "Epoch [34/45], Train Loss: 1.1507, Train Acc: 0.9657, Val Loss: 1.9116, Val Acc: 0.8116\n"
     ]
    },
    {
     "name": "stderr",
     "output_type": "stream",
     "text": [
      "Epoch 35/45: 100%|████████████| 1729/1729 [36:28<00:00,  1.27s/it, Train Loss=1.16, Train Acc=0.962]\n"
     ]
    },
    {
     "name": "stdout",
     "output_type": "stream",
     "text": [
      "Epoch [35/45], Train Loss: 1.1624, Train Acc: 0.9619, Val Loss: 1.8817, Val Acc: 0.8123\n"
     ]
    },
    {
     "name": "stderr",
     "output_type": "stream",
     "text": [
      "Epoch 36/45: 100%|████████████| 1729/1729 [36:14<00:00,  1.26s/it, Train Loss=1.15, Train Acc=0.965]\n"
     ]
    },
    {
     "name": "stdout",
     "output_type": "stream",
     "text": [
      "Epoch [36/45], Train Loss: 1.1537, Train Acc: 0.9649, Val Loss: 1.8921, Val Acc: 0.8137\n"
     ]
    },
    {
     "name": "stderr",
     "output_type": "stream",
     "text": [
      "Epoch 37/45: 100%|████████████| 1729/1729 [36:19<00:00,  1.26s/it, Train Loss=1.15, Train Acc=0.965]\n"
     ]
    },
    {
     "name": "stdout",
     "output_type": "stream",
     "text": [
      "Epoch [37/45], Train Loss: 1.1525, Train Acc: 0.9648, Val Loss: 1.8795, Val Acc: 0.8142\n"
     ]
    },
    {
     "name": "stderr",
     "output_type": "stream",
     "text": [
      "Epoch 38/45: 100%|████████████| 1729/1729 [36:19<00:00,  1.26s/it, Train Loss=1.17, Train Acc=0.961]\n"
     ]
    },
    {
     "name": "stdout",
     "output_type": "stream",
     "text": [
      "Epoch [38/45], Train Loss: 1.1666, Train Acc: 0.9615, Val Loss: 1.8849, Val Acc: 0.8078\n"
     ]
    },
    {
     "name": "stderr",
     "output_type": "stream",
     "text": [
      "Epoch 39/45: 100%|████████████| 1729/1729 [36:18<00:00,  1.26s/it, Train Loss=1.16, Train Acc=0.965]\n"
     ]
    },
    {
     "name": "stdout",
     "output_type": "stream",
     "text": [
      "Epoch [39/45], Train Loss: 1.1561, Train Acc: 0.9650, Val Loss: 1.9100, Val Acc: 0.8203\n"
     ]
    },
    {
     "name": "stderr",
     "output_type": "stream",
     "text": [
      "Epoch 40/45: 100%|████████████| 1729/1729 [36:09<00:00,  1.25s/it, Train Loss=1.15, Train Acc=0.965]\n"
     ]
    },
    {
     "name": "stdout",
     "output_type": "stream",
     "text": [
      "Epoch [40/45], Train Loss: 1.1510, Train Acc: 0.9651, Val Loss: 1.8693, Val Acc: 0.8211\n"
     ]
    },
    {
     "name": "stderr",
     "output_type": "stream",
     "text": [
      "Epoch 41/45: 100%|████████████| 1729/1729 [34:55<00:00,  1.21s/it, Train Loss=1.15, Train Acc=0.966]\n"
     ]
    },
    {
     "name": "stdout",
     "output_type": "stream",
     "text": [
      "Epoch [41/45], Train Loss: 1.1512, Train Acc: 0.9661, Val Loss: 1.9198, Val Acc: 0.8133\n"
     ]
    },
    {
     "name": "stderr",
     "output_type": "stream",
     "text": [
      "Epoch 42/45: 100%|████████████| 1729/1729 [31:08<00:00,  1.08s/it, Train Loss=1.16, Train Acc=0.963]\n"
     ]
    },
    {
     "name": "stdout",
     "output_type": "stream",
     "text": [
      "Epoch [42/45], Train Loss: 1.1631, Train Acc: 0.9626, Val Loss: 1.8826, Val Acc: 0.8154\n"
     ]
    },
    {
     "name": "stderr",
     "output_type": "stream",
     "text": [
      "Epoch 43/45: 100%|████████████| 1729/1729 [31:19<00:00,  1.09s/it, Train Loss=1.16, Train Acc=0.963]\n"
     ]
    },
    {
     "name": "stdout",
     "output_type": "stream",
     "text": [
      "Epoch [43/45], Train Loss: 1.1624, Train Acc: 0.9632, Val Loss: 1.8961, Val Acc: 0.8118\n"
     ]
    },
    {
     "name": "stderr",
     "output_type": "stream",
     "text": [
      "Epoch 44/45: 100%|████████████| 1729/1729 [31:01<00:00,  1.08s/it, Train Loss=1.16, Train Acc=0.963]\n"
     ]
    },
    {
     "name": "stdout",
     "output_type": "stream",
     "text": [
      "Epoch [44/45], Train Loss: 1.1605, Train Acc: 0.9634, Val Loss: 2.0048, Val Acc: 0.7947\n"
     ]
    },
    {
     "name": "stderr",
     "output_type": "stream",
     "text": [
      "Epoch 45/45: 100%|████████████| 1729/1729 [30:47<00:00,  1.07s/it, Train Loss=1.15, Train Acc=0.967]\n"
     ]
    },
    {
     "name": "stdout",
     "output_type": "stream",
     "text": [
      "Epoch [45/45], Train Loss: 1.1490, Train Acc: 0.9672, Val Loss: 1.8909, Val Acc: 0.8150\n"
     ]
    }
   ],
   "source": [
    "best_val_acc = 0.0\n",
    "for epoch in range(45):\n",
    "    # Training\n",
    "    model.train()\n",
    "    train_loss = 0.0\n",
    "    correct_train = 0\n",
    "    total_train = 0\n",
    "    \n",
    "    # Use tqdm for progress bar\n",
    "    pbar = tqdm(train_loader, desc=f'Epoch {epoch + 1}/45', ncols=100)\n",
    "    for inputs, labels in pbar:\n",
    "        inputs, labels = inputs.to(device), labels.to(device)\n",
    "        optimizer.zero_grad()\n",
    "        outputs = model(inputs)\n",
    "        loss = criterion(outputs, labels)\n",
    "        loss.backward()\n",
    "        optimizer.step()\n",
    "        train_loss += loss.item()\n",
    "        _, predicted = torch.max(outputs, 1)\n",
    "        total_train += labels.size(0)\n",
    "        correct_train += (predicted == labels).sum().item()\n",
    "        train_acc = correct_train / total_train\n",
    "        pbar.set_postfix({'Train Loss': train_loss / (total_train / train_loader.batch_size), 'Train Acc': train_acc})\n",
    "    \n",
    "    train_loss_list.append(train_loss / len(train_loader))\n",
    "    train_acc_list.append(train_acc)\n",
    "\n",
    "    # Validation\n",
    "    model.eval()\n",
    "    val_loss = 0.0\n",
    "    correct_val = 0\n",
    "    total_val = 0\n",
    "    with torch.no_grad():\n",
    "        for inputs, labels in val_loader:\n",
    "            inputs, labels = inputs.to(device), labels.to(device)\n",
    "            outputs = model(inputs)\n",
    "            loss = criterion(outputs, labels)\n",
    "            val_loss += loss.item()\n",
    "            _, predicted = torch.max(outputs, 1)\n",
    "            total_val += labels.size(0)\n",
    "            correct_val += (predicted == labels).sum().item()\n",
    "\n",
    "    val_loss_list.append(val_loss / len(val_loader))\n",
    "    val_acc_list.append(correct_val / total_val)\n",
    "\n",
    "    print(f'Epoch [{epoch + 1}/45], Train Loss: {train_loss_list[-1]:.4f}, Train Acc: {train_acc_list[-1]:.4f}, Val Loss: {val_loss_list[-1]:.4f}, Val Acc: {val_acc_list[-1]:.4f}')\n",
    "\n",
    "    # Save model with best validation accuracy\n",
    "    if val_acc_list[-1] > best_val_acc:\n",
    "        best_val_acc = val_acc_list[-1]\n",
    "        torch.save(model.state_dict(), 'vgg19_best_model.pth')"
   ]
  },
  {
   "cell_type": "code",
   "execution_count": 12,
   "id": "d1e31b4d-bf98-4ee9-b1ed-a225a580b2a8",
   "metadata": {},
   "outputs": [
    {
     "data": {
      "image/png": "[encoded data removed]",
      "text/plain": [
       "<Figure size 1000x500 with 1 Axes>"
      ]
     },
     "metadata": {},
     "output_type": "display_data"
    }
   ],
   "source": [
    "# Plotting training curves\n",
    "plt.figure(figsize=(10, 5))\n",
    "plt.plot(train_loss_list, label='Train Loss')\n",
    "plt.plot(val_loss_list, label='Val Loss')\n",
    "plt.xlabel('Epochs')\n",
    "plt.ylabel('Loss')\n",
    "plt.title('Training and Validation Loss')\n",
    "plt.legend()\n",
    "plt.show()"
   ]
  },
  {
   "cell_type": "code",
   "execution_count": 13,
   "id": "292c0433-ba4f-428b-b751-e9c062b0bb01",
   "metadata": {},
   "outputs": [
    {
     "data": {
      "image/png": "[encoded data removed]",
      "text/plain": [
       "<Figure size 1000x500 with 1 Axes>"
      ]
     },
     "metadata": {},
     "output_type": "display_data"
    }
   ],
   "source": [
    "plt.figure(figsize=(10, 5))\n",
    "plt.plot(train_acc_list, label='Train Acc')\n",
    "plt.plot(val_acc_list, label='Val Acc')\n",
    "plt.xlabel('Epochs')\n",
    "plt.ylabel('Accuracy')\n",
    "plt.title('Training and Validation Accuracy')\n",
    "plt.legend()\n",
    "plt.show()"
   ]
  },
  {
   "cell_type": "code",
   "execution_count": 14,
   "id": "6e8a608b-5eda-40fc-af51-e7e506b483b3",
   "metadata": {},
   "outputs": [
    {
     "data": {
      "text/plain": [
       "<All keys matched successfully>"
      ]
     },
     "execution_count": 14,
     "metadata": {},
     "output_type": "execute_result"
    }
   ],
   "source": [
    "# Load best model\n",
    "model.load_state_dict(torch.load('vgg19_best_model.pth'))"
   ]
  },
  {
   "cell_type": "code",
   "execution_count": 15,
   "id": "de34d11b-52c7-4287-8506-f50c9aa41665",
   "metadata": {},
   "outputs": [
    {
     "name": "stdout",
     "output_type": "stream",
     "text": [
      "Overall Accuracy: 0.8609\n",
      "Precision: 0.8685\n",
      "Recall: 0.8609\n",
      "F1-score: 0.8583\n"
     ]
    },
    {
     "name": "stderr",
     "output_type": "stream",
     "text": [
      "C:\\Users\\Welcome\\anaconda3\\Lib\\site-packages\\sklearn\\metrics\\_classification.py:1469: UndefinedMetricWarning: Precision is ill-defined and being set to 0.0 in labels with no predicted samples. Use `zero_division` parameter to control this behavior.\n",
      "  _warn_prf(average, modifier, msg_start, len(result))\n"
     ]
    }
   ],
   "source": [
    "# Testing\n",
    "model.eval()\n",
    "y_true = []\n",
    "y_pred = []\n",
    "with torch.no_grad():\n",
    "    for inputs, labels in test_loader:\n",
    "        inputs, labels = inputs.to(device), labels.to(device)\n",
    "        outputs = model(inputs)\n",
    "        _, predicted = torch.max(outputs, 1)\n",
    "        y_true.extend(labels.cpu().numpy())\n",
    "        y_pred.extend(predicted.cpu().numpy())\n",
    "\n",
    "# Calculate metrics\n",
    "accuracy = accuracy_score(y_true, y_pred)\n",
    "precision = precision_score(y_true, y_pred, average='weighted')\n",
    "recall = recall_score(y_true, y_pred, average='weighted')\n",
    "f1 = f1_score(y_true, y_pred, average='weighted')\n",
    "\n",
    "print(f'Overall Accuracy: {accuracy:.4f}')\n",
    "print(f'Precision: {precision:.4f}')\n",
    "print(f'Recall: {recall:.4f}')\n",
    "print(f'F1-score: {f1:.4f}')"
   ]
  },
  {
   "cell_type": "code",
   "execution_count": 16,
   "id": "1a3c2fe1-4e7c-47f4-a888-eabddbf4a1a0",
   "metadata": {},
   "outputs": [
    {
     "name": "stdout",
     "output_type": "stream",
     "text": [
      "train_loss_list =  [2.5726423429022502, 1.7892777568829272, 1.6256269385457522, 1.5277873474163013, 1.4598685257554813, 1.4186730196601467, 1.3831438227427908, 1.3544091153792939, 1.330237192043064, 1.308209038594336, 1.2927314840761341, 1.2724789510647503, 1.2663970905070088, 1.2478212655935073, 1.2468184260980044, 1.2303652477926295, 1.2233209923694008, 1.2144576083586491, 1.2117755614380536, 1.1935293107035534, 1.1934309562139251, 1.1910881163965008, 1.1900074246854986, 1.1805893555757556, 1.1757649017111147, 1.1783732599850816, 1.1686838828048793, 1.1662329758020271, 1.1942454888132557, 1.1643006587180187, 1.1669434407599886, 1.1665266859800296, 1.160634887087476, 1.150735356891824, 1.1623575013107204, 1.1537202170572232, 1.1525434258357854, 1.166617554691639, 1.1560717102693918, 1.1510277836222123, 1.151181102212693, 1.1630681465649757, 1.1624268491947976, 1.160526499298696, 1.1490092519530677]\n",
      "val_loss_list =  [2.235060735028765, 2.10785805479235, 1.9682578531354062, 2.058634041050668, 1.9803805660139695, 1.9301558585784695, 1.9974588833839788, 1.9132691834137026, 1.9234930894635467, 1.890971484937166, 1.9007407253087774, 1.937872011651877, 1.9187680719352445, 1.919793258070463, 1.890655266852514, 1.910214712021322, 1.8922036167098444, 1.9193070402994812, 1.880585331665842, 1.8842966633769664, 1.9660116627148772, 1.9410333503113102, 1.9337941878720333, 1.9066440858821638, 1.8858537355415252, 1.8936686018700541, 1.9049396635549753, 1.901017221362002, 1.9236724712105415, 1.9397759739203975, 1.9561332126378048, 1.8739775851187919, 1.8879634549743252, 1.91155765172441, 1.8816822480093613, 1.892089697513503, 1.8794594573588506, 1.8848645436136346, 1.9099868301920562, 1.8693161312385127, 1.919841624947212, 1.8826225815031692, 1.8960969595291355, 2.0047753559433015, 1.8909266378715452]\n",
      "train_acc_list =  [0.5322571898555702, 0.7542163012237667, 0.8066918530033803, 0.8377288913794039, 0.8594927785108729, 0.8727246434446232, 0.8839861896928833, 0.8933677988467309, 0.9028940185463025, 0.9097810957864102, 0.9142820990220711, 0.9220368395365232, 0.9243325319498924, 0.9309665407349831, 0.9317438224182498, 0.9364978941089279, 0.9401673867066755, 0.9432042081668806, 0.9452106794888018, 0.9505974223170225, 0.9511758644999186, 0.9525677410025126, 0.952260443592849, 0.9562914625549068, 0.9571591258292511, 0.9563456915095533, 0.9592559787422498, 0.9603586341533956, 0.953688472731874, 0.961515518519188, 0.9601417183348095, 0.9601959472894561, 0.9622566475660238, 0.9657092243451854, 0.9619131975199291, 0.9648596373890566, 0.9647873321161946, 0.961479365882757, 0.9649861716165652, 0.9651488584805047, 0.96605267439128, 0.9626181739303339, 0.963232768749661, 0.9634496845682471, 0.9671914824388569]\n",
      "val_acc_list =  [0.6853775975671567, 0.7240243284338571, 0.7518373035985808, 0.779523568170299, 0.799227065382666, 0.7961860111505322, 0.7807906741003547, 0.8105043081601622, 0.8012544348707552, 0.812658388241257, 0.805499239736442, 0.8175367460719716, 0.8073365433350228, 0.7995438418651799, 0.8120881905727318, 0.8079700963000507, 0.8132285859097821, 0.812024835276229, 0.8205778003041054, 0.8184237202230107, 0.8004941713127217, 0.8132919412062849, 0.8033451596553471, 0.8139888494678155, 0.8198808920425747, 0.8183603649265079, 0.8055625950329448, 0.8160162189559047, 0.8051824632539281, 0.8113912823112012, 0.8049290420679169, 0.8153826659908768, 0.8234921439432337, 0.8115813482007096, 0.8122782564622403, 0.8136720729853015, 0.8141789153573239, 0.8077800304105424, 0.8202610238215915, 0.8211479979726305, 0.8132919412062849, 0.8154460212873796, 0.8117714140902179, 0.7946654840344652, 0.8150025342118601]\n"
     ]
    }
   ],
   "source": [
    "print(\"train_loss_list = \",train_loss_list)\n",
    "print(\"val_loss_list = \", val_loss_list)\n",
    "print(\"train_acc_list = \",train_acc_list)\n",
    "print(\"val_acc_list = \", val_acc_list)"
   ]
  },
  {
   "cell_type": "code",
   "execution_count": null,
   "id": "0733d37e",
   "metadata": {},
   "outputs": [],
   "source": []
  }
 ],
 "metadata": {
  "kernelspec": {
   "display_name": "Python 3 (ipykernel)",
   "language": "python",
   "name": "python3"
  },
  "language_info": {
   "codemirror_mode": {
    "name": "ipython",
    "version": 3
   },
   "file_extension": ".py",
   "mimetype": "text/x-python",
   "name": "python",
   "nbconvert_exporter": "python",
   "pygments_lexer": "ipython3",
   "version": "3.11.5"
  }
 },
 "nbformat": 4,
 "nbformat_minor": 5
}
