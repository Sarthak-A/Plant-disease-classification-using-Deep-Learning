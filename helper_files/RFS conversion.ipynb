{
 "cells": [
  {
   "cell_type": "code",
   "execution_count": 1,
   "id": "8906a911",
   "metadata": {},
   "outputs": [
    {
     "name": "stdout",
     "output_type": "stream",
     "text": [
      "Conversion to Roboflow-like structure complete for PDMD for split 70-20-10\n"
     ]
    }
   ],
   "source": [
    "import os\n",
    "import random\n",
    "import shutil\n",
    "\n",
    "# Define the root directory containing your dataset\n",
    "root_dir = r\"C:\\Users\\ankit\\PDMD\"\n",
    "\n",
    "# Define the target directory where you want to create the Roboflow-like structure\n",
    "target_dir = r\"C:\\Users\\ankit\\PDMD - RFS70\"\n",
    "\n",
    "# Create the target directory if it doesn't exist\n",
    "if not os.path.exists(target_dir):\n",
    "    os.makedirs(target_dir)\n",
    "\n",
    "# Define the dataset splits\n",
    "splits = [\"train\", \"val\", \"test\"]\n",
    "\n",
    "# Loop through each split\n",
    "for split in splits:\n",
    "    # Create subdirectories for each split\n",
    "    split_dir = os.path.join(target_dir, split)\n",
    "    if not os.path.exists(split_dir):\n",
    "        os.makedirs(split_dir)\n",
    "    \n",
    "    # Loop through each class folder in the root directory\n",
    "    for class_folder in os.listdir(root_dir):\n",
    "        class_folder_path = os.path.join(root_dir, class_folder)\n",
    "        \n",
    "        # Check if it's a directory\n",
    "        if os.path.isdir(class_folder_path):\n",
    "            # Shuffle the list of images within the class folder\n",
    "            images = os.listdir(class_folder_path)\n",
    "            \n",
    "            # Create subdirectories for each class in the split directory\n",
    "            class_split_dir = os.path.join(split_dir, class_folder)\n",
    "            if not os.path.exists(class_split_dir):\n",
    "                os.makedirs(class_split_dir)\n",
    "            \n",
    "            # Move images from the class folder to the appropriate split directory\n",
    "            num_images = len(images)\n",
    "            num_images_train = int(0.7 * num_images)  # 70% train\n",
    "            num_images_val = int(0.2 * num_images)   # 20% validation\n",
    "            num_images_test = num_images - num_images_train - num_images_val   # 10% test\n",
    "            \n",
    "            if split == \"train\":\n",
    "                images_to_move = images[:num_images_train]\n",
    "            elif split == \"val\":\n",
    "                images_to_move = images[num_images_train:num_images_train+num_images_val]\n",
    "            else:\n",
    "                images_to_move = images[num_images_train+num_images_val:]\n",
    "            \n",
    "            for image in images_to_move:\n",
    "                src = os.path.join(class_folder_path, image)\n",
    "                dst = os.path.join(class_split_dir, image)\n",
    "                shutil.copy(src, dst)\n",
    "\n",
    "print(\"Conversion to Roboflow-like structure complete for PDMD for split 70-20-10\")"
   ]
  },
  {
   "cell_type": "code",
   "execution_count": null,
   "id": "6d6f273e",
   "metadata": {},
   "outputs": [],
   "source": []
  }
 ],
 "metadata": {
  "kernelspec": {
   "display_name": "Python 3 (ipykernel)",
   "language": "python",
   "name": "python3"
  },
  "language_info": {
   "codemirror_mode": {
    "name": "ipython",
    "version": 3
   },
   "file_extension": ".py",
   "mimetype": "text/x-python",
   "name": "python",
   "nbconvert_exporter": "python",
   "pygments_lexer": "ipython3",
   "version": "3.11.5"
  }
 },
 "nbformat": 4,
 "nbformat_minor": 5
}
